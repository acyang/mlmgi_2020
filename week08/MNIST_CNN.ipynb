{
 "cells": [
  {
   "cell_type": "markdown",
   "metadata": {
    "colab_type": "text",
    "id": "Tce3stUlHN0L"
   },
   "source": [
    "##### Copyright 2018 The TensorFlow Authors.\n",
    "\n"
   ]
  },
  {
   "cell_type": "code",
   "execution_count": 1,
   "metadata": {
    "ExecuteTime": {
     "end_time": "2019-04-23T03:18:11.677853Z",
     "start_time": "2019-04-23T03:18:11.646610Z"
    },
    "colab": {},
    "colab_type": "code",
    "id": "tuOe1ymfHZPu"
   },
   "outputs": [],
   "source": [
    "#@title Licensed under the Apache License, Version 2.0 (the \"License\");\n",
    "# you may not use this file except in compliance with the License.\n",
    "# You may obtain a copy of the License at\n",
    "#\n",
    "# https://www.apache.org/licenses/LICENSE-2.0\n",
    "#\n",
    "# Unless required by applicable law or agreed to in writing, software\n",
    "# distributed under the License is distributed on an \"AS IS\" BASIS,\n",
    "# WITHOUT WARRANTIES OR CONDITIONS OF ANY KIND, either express or implied.\n",
    "# See the License for the specific language governing permissions and\n",
    "# limitations under the License."
   ]
  },
  {
   "cell_type": "markdown",
   "metadata": {
    "colab_type": "text",
    "id": "MfBg1C5NB3X0"
   },
   "source": [
    "# Build a Convolutional Neural Network using Estimators\n",
    "\n",
    "<table class=\"tfo-notebook-buttons\" align=\"left\">\n",
    "  <td>\n",
    "    <a target=\"_blank\" href=\"https://www.tensorflow.org/tutorials/estimators/cnn\"><img src=\"https://www.tensorflow.org/images/tf_logo_32px.png\" />View on TensorFlow.org</a>\n",
    "  </td>\n",
    "  <td>\n",
    "    <a target=\"_blank\" href=\"https://colab.research.google.com/github/tensorflow/docs/blob/master/site/en/tutorials/estimators/cnn.ipynb\"><img src=\"https://www.tensorflow.org/images/colab_logo_32px.png\" />Run in Google Colab</a>\n",
    "  </td>\n",
    "  <td>\n",
    "    <a target=\"_blank\" href=\"https://github.com/tensorflow/docs/blob/master/site/en/tutorials/estimators/cnn.ipynb\"><img src=\"https://www.tensorflow.org/images/GitHub-Mark-32px.png\" />View source on GitHub</a>\n",
    "  </td>\n",
    "</table>"
   ]
  },
  {
   "cell_type": "markdown",
   "metadata": {
    "colab_type": "text",
    "id": "xHxb-dlhMIzW"
   },
   "source": [
    "The `tf.layers` module provides a high-level API that makes\n",
    "it easy to construct a neural network. It provides methods that facilitate the\n",
    "creation of dense (fully connected) layers and convolutional layers, adding\n",
    "activation functions, and applying dropout regularization. In this tutorial,\n",
    "you'll learn how to use `layers` to build a convolutional neural network model\n",
    "to recognize the handwritten digits in the MNIST data set.\n",
    "\n",
    "![handwritten digits 0–9 from the MNIST data set](https://www.tensorflow.org/images/mnist_0-9.png)\n",
    "\n",
    "The [MNIST dataset](http://yann.lecun.com/exdb/mnist/) comprises 60,000\n",
    "training examples and 10,000 test examples of the handwritten digits 0–9,\n",
    "formatted as 28x28-pixel monochrome images."
   ]
  },
  {
   "cell_type": "markdown",
   "metadata": {
    "colab_type": "text",
    "id": "wTe-6uXpP2Ts"
   },
   "source": [
    "## Get Started\n",
    "\n",
    "Let's set up the imports for our TensorFlow program:"
   ]
  },
  {
   "cell_type": "code",
   "execution_count": 2,
   "metadata": {
    "ExecuteTime": {
     "end_time": "2019-04-23T03:18:43.237251Z",
     "start_time": "2019-04-23T03:18:11.677853Z"
    },
    "colab": {},
    "colab_type": "code",
    "id": "6-tpguHLP6Rm"
   },
   "outputs": [],
   "source": [
    "from __future__ import absolute_import, division, print_function, unicode_literals\n",
    "\n",
    "import tensorflow as tf\n",
    "import numpy as np\n",
    "\n",
    "tf.logging.set_verbosity(tf.logging.INFO)"
   ]
  },
  {
   "cell_type": "markdown",
   "metadata": {},
   "source": [
    "https://www.tensorflow.org/api_docs/python/tf/logging/set_verbosity\n",
    "\n",
    "Sets the threshold for what messages will be logged, there are five levels threshold.\n",
    "* FATAL: 'FATAL'\n",
    "* ERROR: 'ERROR'\n",
    "* WARN: 'WARN'\n",
    "* INFO: 'INFO'\n",
    "* DEBUG: 'DEBUG'"
   ]
  },
  {
   "cell_type": "markdown",
   "metadata": {
    "colab_type": "text",
    "id": "bUxWLCdTQexM"
   },
   "source": [
    "As you work through the tutorial, you'll add code to construct, train, and\n",
    "evaluate the convolutional neural network. The complete, final code can be\n",
    "[found here](https://www.tensorflow.org/code/tensorflow/examples/tutorials/layers/cnn_mnist.py)."
   ]
  },
  {
   "cell_type": "markdown",
   "metadata": {
    "colab_type": "text",
    "id": "4j5yyyDFQgSB"
   },
   "source": [
    "## Intro to Convolutional Neural Networks\n",
    "\n",
    "Convolutional neural networks (CNNs) are the current state-of-the-art model\n",
    "architecture for image classification tasks. CNNs apply a series of filters to\n",
    "the raw pixel data of an image to extract and learn higher-level features, which\n",
    "the model can then use for classification. CNNs contains three components:\n",
    "\n",
    "*   **Convolutional layers**, which apply a specified number of convolution\n",
    "    filters to the image. For each subregion, the layer performs a set of\n",
    "    mathematical operations to produce a single value in the output feature map.\n",
    "    Convolutional layers then typically apply a\n",
    "    [ReLU activation function](https://en.wikipedia.org/wiki/Rectifier_\\(neural_networks\\)) to\n",
    "    the output to introduce nonlinearities into the model.\n",
    "\n",
    "*   **Pooling layers**, which\n",
    "    [downsample the image data](https://en.wikipedia.org/wiki/Convolutional_neural_network#Pooling_layer)\n",
    "    extracted by the convolutional layers to reduce the dimensionality of the\n",
    "    feature map in order to decrease processing time. A commonly used pooling\n",
    "    algorithm is max pooling, which extracts subregions of the feature map\n",
    "    (e.g., 2x2-pixel tiles), keeps their maximum value, and discards all other\n",
    "    values.\n",
    "\n",
    "*   **Dense (fully connected) layers**, which perform classification on the\n",
    "    features extracted by the convolutional layers and downsampled by the\n",
    "    pooling layers. In a dense layer, every node in the layer is connected to\n",
    "    every node in the preceding layer.\n",
    "\n",
    "Typically, a CNN is composed of a stack of convolutional modules that perform\n",
    "feature extraction. Each module consists of a convolutional layer followed by a\n",
    "pooling layer. The last convolutional module is followed by one or more dense\n",
    "layers that perform classification. The final dense layer in a CNN contains a\n",
    "single node for each target class in the model (all the possible classes the\n",
    "model may predict), with a\n",
    "[softmax](https://en.wikipedia.org/wiki/Softmax_function) activation function to\n",
    "generate a value between 0–1 for each node (the sum of all these softmax values\n",
    "is equal to 1). We can interpret the softmax values for a given image as\n",
    "relative measurements of how likely it is that the image falls into each target\n",
    "class.\n",
    "\n",
    "Note: For a more comprehensive walkthrough of CNN architecture, see Stanford University's [Convolutional Neural Networks for Visual Recognition course material](https://cs231n.github.io/convolutional-networks/)."
   ]
  },
  {
   "cell_type": "markdown",
   "metadata": {
    "colab_type": "text",
    "id": "j23E_Z0FQvZB"
   },
   "source": [
    "## Building the CNN MNIST Classifier\n",
    "\n",
    "Let's build a model to classify the images in the MNIST dataset using the\n",
    "following CNN architecture:\n",
    "\n",
    "1.  **Convolutional Layer #1**: Applies 32 5x5 filters (extracting 5x5-pixel\n",
    "    subregions), with ReLU activation function\n",
    "2.  **Pooling Layer #1**: Performs max pooling with a 2x2 filter and stride of 2\n",
    "    (which specifies that pooled regions do not overlap)\n",
    "3.  **Convolutional Layer #2**: Applies 64 5x5 filters, with ReLU activation\n",
    "    function\n",
    "4.  **Pooling Layer #2**: Again, performs max pooling with a 2x2 filter and\n",
    "    stride of 2\n",
    "5.  **Dense Layer #1**: 1,024 neurons, with dropout regularization rate of 0.4\n",
    "    (probability of 0.4 that any given element will be dropped during training)\n",
    "6.  **Dense Layer #2 (Logits Layer)**: 10 neurons, one for each digit target\n",
    "    class (0–9).\n",
    "\n",
    "![alt cnn](https://ai2-s2-public.s3.amazonaws.com/figures/2017-08-08/2934e9a15d0619d04ae4a4d4e2951e2ff4f45d93/21-FigureD.2-1.png)\n",
    "\n",
    "The `tf.layers` module contains methods to create each of the three layer types\n",
    "above:\n",
    "\n",
    "*   `conv2d()`. Constructs a two-dimensional convolutional layer. Takes number\n",
    "    of filters, filter kernel size, padding, and activation function as\n",
    "    arguments.\n",
    "*   `max_pooling2d()`. Constructs a two-dimensional pooling layer using the\n",
    "    max-pooling algorithm. Takes pooling filter size and stride as arguments.\n",
    "*   `dense()`. Constructs a dense layer. Takes number of neurons and activation\n",
    "    function as arguments.\n",
    "\n",
    "Each of these methods accepts a tensor as input and returns a transformed tensor\n",
    "as output. This makes it easy to connect one layer to another: just take the\n",
    "output from one layer-creation method and supply it as input to another.\n",
    "\n",
    "Add the following `cnn_model_fn` function, which\n",
    "conforms to the interface expected by TensorFlow's Estimator API (more on this\n",
    "later in [Create the Estimator](#create-the-estimator)). This function takes\n",
    "MNIST feature data, labels, and mode (from\n",
    "`tf.estimator.ModeKeys`: `TRAIN`, `EVAL`, `PREDICT`) as arguments;\n",
    "configures the CNN; and returns predictions, loss, and a training operation:"
   ]
  },
  {
   "cell_type": "code",
   "execution_count": 3,
   "metadata": {
    "ExecuteTime": {
     "end_time": "2019-04-23T03:18:43.284121Z",
     "start_time": "2019-04-23T03:18:43.237251Z"
    },
    "colab": {},
    "colab_type": "code",
    "hide_input": true,
    "id": "gMR-_3rkRKPa"
   },
   "outputs": [],
   "source": [
    "def cnn_model_fn(features, labels, mode):\n",
    "    \"\"\"Model function for CNN.\"\"\"\n",
    "    # Input Layer\n",
    "    input_layer = tf.reshape(features[\"x\"], [-1, 28, 28, 1])\n",
    "\n",
    "    # Convolutional Layer #1\n",
    "    ## https://www.tensorflow.org/api_docs/python/tf/layers/Conv2D#__call__\n",
    "    conv1 = tf.layers.conv2d(\n",
    "      inputs=input_layer,\n",
    "      filters=32,\n",
    "      kernel_size=[5, 5],\n",
    "      padding=\"same\",\n",
    "      activation=tf.nn.relu)\n",
    "\n",
    "    # Pooling Layer #1\n",
    "    ## https://www.tensorflow.org/api_docs/python/tf/layers/max_pooling2d\n",
    "    pool1 = tf.layers.max_pooling2d(inputs=conv1, pool_size=[2, 2], strides=2)\n",
    "\n",
    "    # Convolutional Layer #2 and Pooling Layer #2\n",
    "    conv2 = tf.layers.conv2d(\n",
    "      inputs=pool1,\n",
    "      filters=64,\n",
    "      kernel_size=[5, 5],\n",
    "      padding=\"same\",\n",
    "      activation=tf.nn.relu)\n",
    "    pool2 = tf.layers.max_pooling2d(inputs=conv2, pool_size=[2, 2], strides=2)\n",
    "\n",
    "    # Dense Layer\n",
    "    pool2_flat = tf.reshape(pool2, [-1, 7 * 7 * 64])\n",
    "    dense = tf.layers.dense(inputs=pool2_flat, units=1024, activation=tf.nn.relu)\n",
    "    dropout = tf.layers.dropout(\n",
    "      inputs=dense, rate=0.4, training=mode == tf.estimator.ModeKeys.TRAIN)\n",
    "\n",
    "    # Logits Layer\n",
    "    logits = tf.layers.dense(inputs=dropout, units=10)\n",
    "\n",
    "    predictions = {\n",
    "      # Generate predictions (for PREDICT and EVAL mode)\n",
    "      \"classes\": tf.argmax(input=logits, axis=1),\n",
    "      # Add `softmax_tensor` to the graph. It is used for PREDICT and by the\n",
    "      # `logging_hook`.\n",
    "      \"probabilities\": tf.nn.softmax(logits, name=\"softmax_tensor\")\n",
    "    }\n",
    "\n",
    "    if mode == tf.estimator.ModeKeys.PREDICT:\n",
    "    return tf.estimator.EstimatorSpec(mode=mode, predictions=predictions)\n",
    "\n",
    "    # Calculate Loss (for both TRAIN and EVAL modes)\n",
    "    loss = tf.losses.sparse_softmax_cross_entropy(labels=labels, logits=logits)\n",
    "\n",
    "    # Configure the Training Op (for TRAIN mode)\n",
    "    if mode == tf.estimator.ModeKeys.TRAIN:\n",
    "      optimizer = tf.train.GradientDescentOptimizer(learning_rate=0.001)\n",
    "      train_op = optimizer.minimize(\n",
    "        loss=loss,\n",
    "        global_step=tf.train.get_global_step())\n",
    "    return tf.estimator.EstimatorSpec(mode=mode, loss=loss, train_op=train_op)\n",
    "\n",
    "    # Add evaluation metrics (for EVAL mode)\n",
    "    eval_metric_ops = {\n",
    "      \"accuracy\": tf.metrics.accuracy(\n",
    "          labels=labels, predictions=predictions[\"classes\"])\n",
    "    }\n",
    "    return tf.estimator.EstimatorSpec(\n",
    "      mode=mode, loss=loss, eval_metric_ops=eval_metric_ops)"
   ]
  },
  {
   "cell_type": "markdown",
   "metadata": {
    "colab_type": "text",
    "id": "b7z8qC9FRSLB"
   },
   "source": [
    "The following sections (with headings corresponding to each code block above)\n",
    "dive deeper into the `tf.layers` code used to create each layer, as well as how\n",
    "to calculate loss, configure the training op, and generate predictions. If\n",
    "you're already experienced with CNNs and [TensorFlow `Estimator`s](../../guide/custom_estimators.md),\n",
    "and find the above code intuitive, you may want to skim these sections or just\n",
    "skip ahead to [\"Training and Evaluating the CNN MNIST Classifier\"](#train_eval_mnist)."
   ]
  },
  {
   "cell_type": "markdown",
   "metadata": {
    "colab_type": "text",
    "id": "sFBXEYRlRUWu"
   },
   "source": [
    "### Input Layer\n",
    "\n",
    "The methods in the `layers` module for creating convolutional and pooling layers\n",
    "for two-dimensional image data expect input tensors to have a shape of\n",
    "<code>[<em>batch_size</em>, <em>image_height</em>, <em>image_width</em>,\n",
    "<em>channels</em>]</code> by default. This behavior can be changed using the\n",
    "<code><em>data_format</em></code> parameter; defined as follows:\n",
    "\n",
    "*   `batch_size` —Size of the subset of examples to use when performing\n",
    "    gradient descent during training.\n",
    "*   `image_height` —Height of the example images.\n",
    "*   `image_width` —Width of the example images.\n",
    "*   `channels` —Number of color channels in the example images. For color\n",
    "    images, the number of channels is 3 (red, green, blue). For monochrome\n",
    "    images, there is just 1 channel (black).\n",
    "*   `data_format` —A string, one of `channels_last` (default) or `channels_first`.\n",
    "      `channels_last` corresponds to inputs with shape\n",
    "      `(batch, ..., channels)` while `channels_first` corresponds to\n",
    "      inputs with shape `(batch, channels, ...)`.\n",
    "\n",
    "Here, our MNIST dataset is composed of monochrome 28x28 pixel images, so the\n",
    "desired shape for our input layer is <code>[<em>batch_size</em>, 28, 28,\n",
    "1]</code>.\n",
    "\n",
    "To convert our input feature map (`features`) to this shape, we can perform the\n",
    "following `reshape` operation:\n",
    "\n",
    "```\n",
    "input_layer = tf.reshape(features[\"x\"], [-1, 28, 28, 1])\n",
    "```\n",
    "\n",
    "Note that we've indicated `-1` for batch size, which specifies that this\n",
    "dimension should be dynamically computed based on the number of input values in\n",
    "`features[\"x\"]`, holding the size of all other dimensions constant. This allows\n",
    "us to treat `batch_size` as a hyperparameter that we can tune. For example, if\n",
    "we feed examples into our model in batches of 5, `features[\"x\"]` will contain\n",
    "3,920 values (one value for each pixel in each image), and `input_layer` will\n",
    "have a shape of `[5, 28, 28, 1]`. Similarly, if we feed examples in batches of\n",
    "100, `features[\"x\"]` will contain 78,400 values, and `input_layer` will have a\n",
    "shape of `[100, 28, 28, 1]`."
   ]
  },
  {
   "cell_type": "markdown",
   "metadata": {
    "colab_type": "text",
    "id": "iU8Jr1_JRiKA"
   },
   "source": [
    "### Convolutional Layer #1\n",
    "\n",
    "In our first convolutional layer, we want to apply 32 5x5 filters to the input\n",
    "layer, with a ReLU activation function. We can use the `conv2d()` method in the\n",
    "`layers` module to create this layer as follows:\n",
    "\n",
    "```\n",
    "conv1 = tf.layers.conv2d(\n",
    "    inputs=input_layer,\n",
    "    filters=32,\n",
    "    kernel_size=[5, 5],\n",
    "    padding=\"same\",\n",
    "    activation=tf.nn.relu)\n",
    "```\n",
    "\n",
    "The `inputs` argument specifies our input tensor, which must have the shape\n",
    "<code>[<em>batch_size</em>, <em>image_height</em>, <em>image_width</em>,\n",
    "<em>channels</em>]</code>. Here, we're connecting our first convolutional layer\n",
    "to `input_layer`, which has the shape <code>[<em>batch_size</em>, 28, 28,\n",
    "1]</code>.\n",
    "\n",
    "Note: `conv2d()` will instead accept a shape of `[<em>batch_size</em>, <em>channels</em>, <em>image_height</em>, <em>image_width</em>]` when passed the argument `data_format=channels_first`.\n",
    "\n",
    "The `filters` argument specifies the number of filters to apply (here, 32), and\n",
    "`kernel_size` specifies the dimensions of the filters as `[<em>height</em>,\n",
    "<em>width</em>]</code> (here, <code>[5, 5]`).\n",
    "\n",
    "<p class=\"tip\"><b>TIP:</b> If filter height and width have the same value, you can instead specify a\n",
    "single integer for <code>kernel_size</code>—e.g., <code>kernel_size=5</code>.</p>\n",
    "\n",
    "The `padding` argument specifies one of two enumerated values\n",
    "(case-insensitive): `valid` (default value) or `same`. To specify that the\n",
    "output tensor should have the same height and width values as the input tensor,\n",
    "we set `padding=same` here, which instructs TensorFlow to add 0 values to the\n",
    "edges of the input tensor to preserve height and width of 28. (Without padding,\n",
    "a 5x5 convolution over a 28x28 tensor will produce a 24x24 tensor, as there are\n",
    "24x24 locations to extract a 5x5 tile from a 28x28 grid.)\n",
    "\n",
    "The `activation` argument specifies the activation function to apply to the\n",
    "output of the convolution. Here, we specify ReLU activation with\n",
    "`tf.nn.relu`.\n",
    "\n",
    "Our output tensor produced by `conv2d()` has a shape of\n",
    "<code>[<em>batch_size</em>, 28, 28, 32]</code>: the same height and width\n",
    "dimensions as the input, but now with 32 channels holding the output from each\n",
    "of the filters."
   ]
  },
  {
   "cell_type": "markdown",
   "metadata": {
    "colab_type": "text",
    "id": "8qzx1ZMFRqt_"
   },
   "source": [
    "### Pooling Layer #1\n",
    "\n",
    "Next, we connect our first pooling layer to the convolutional layer we just\n",
    "created. We can use the `max_pooling2d()` method in `layers` to construct a\n",
    "layer that performs max pooling with a 2x2 filter and stride of 2:\n",
    "\n",
    "```\n",
    "pool1 = tf.layers.max_pooling2d(inputs=conv1, pool_size=[2, 2], strides=2)\n",
    "```\n",
    "\n",
    "Again, `inputs` specifies the input tensor, with a shape of\n",
    "<code>[<em>batch_size</em>, <em>image_height</em>, <em>image_width</em>,\n",
    "<em>channels</em>]</code>. Here, our input tensor is `conv1`, the output from\n",
    "the first convolutional layer, which has a shape of <code>[<em>batch_size</em>,\n",
    "28, 28, 32]</code>.\n",
    "\n",
    "Note: As with <code>conv2d()</code>, <code>max_pooling2d()</code> will instead\n",
    "accept a shape of <code>[<em>batch_size</em>, <em>channels</em>,\n",
    "<em>image_height</em>, <em>image_width</em>]</code> when passed the argument\n",
    "<code>data_format=channels_first</code>.\n",
    "\n",
    "The `pool_size` argument specifies the size of the max pooling filter as\n",
    "<code>[<em>height</em>, <em>width</em>]</code> (here, `[2, 2]`). If both\n",
    "dimensions have the same value, you can instead specify a single integer (e.g.,\n",
    "`pool_size=2`).\n",
    "\n",
    "The `strides` argument specifies the size of the stride. Here, we set a stride\n",
    "of 2, which indicates that the subregions extracted by the filter should be\n",
    "separated by 2 pixels in both the height and width dimensions (for a 2x2 filter,\n",
    "this means that none of the regions extracted will overlap). If you want to set\n",
    "different stride values for height and width, you can instead specify a tuple or\n",
    "list (e.g., `stride=[3, 6]`).\n",
    "\n",
    "Our output tensor produced by `max_pooling2d()` (`pool1`) has a shape of\n",
    "<code>[<em>batch_size</em>, 14, 14, 32]</code>: the 2x2 filter reduces height and width by 50% each."
   ]
  },
  {
   "cell_type": "markdown",
   "metadata": {
    "colab_type": "text",
    "id": "xXej53NlRzFh"
   },
   "source": [
    "### Convolutional Layer #2 and Pooling Layer #2\n",
    "\n",
    "We can connect a second convolutional and pooling layer to our CNN using\n",
    "`conv2d()` and `max_pooling2d()` as before. For convolutional layer #2, we\n",
    "configure 64 5x5 filters with ReLU activation, and for pooling layer #2, we use\n",
    "the same specs as pooling layer #1 (a 2x2 max pooling filter with stride of 2):\n",
    "\n",
    "```\n",
    "conv2 = tf.layers.conv2d(\n",
    "    inputs=pool1,\n",
    "    filters=64,\n",
    "    kernel_size=[5, 5],\n",
    "    padding=\"same\",\n",
    "    activation=tf.nn.relu)\n",
    "\n",
    "pool2 = tf.layers.max_pooling2d(inputs=conv2, pool_size=[2, 2], strides=2)\n",
    "```\n",
    "\n",
    "Note that convolutional layer #2 takes the output tensor of our first pooling\n",
    "layer (`pool1`) as input, and produces the tensor `conv2` as output. `conv2`\n",
    "has a shape of <code>[<em>batch_size</em>, 14, 14, 64]</code>, the same height and width as `pool1` (due to `padding=\"same\"`), and 64 channels for the 64\n",
    "filters applied.\n",
    "\n",
    "Pooling layer #2 takes `conv2` as input, producing `pool2` as output. `pool2`\n",
    "has shape <code>[<em>batch_size</em>, 7, 7, 64]</code> (50% reduction of height and width from `conv2`)."
   ]
  },
  {
   "cell_type": "markdown",
   "metadata": {
    "colab_type": "text",
    "id": "jjmLqVP7R7z6"
   },
   "source": [
    "### Dense Layer\n",
    "\n",
    "Next, we want to add a dense layer (with 1,024 neurons and ReLU activation) to\n",
    "our CNN to perform classification on the features extracted by the\n",
    "convolution/pooling layers. Before we connect the layer, however, we'll flatten\n",
    "our feature map (`pool2`) to shape <code>[<em>batch_size</em>,\n",
    "<em>features</em>]</code>, so that our tensor has only two dimensions:\n",
    "\n",
    "```\n",
    "pool2_flat = tf.reshape(pool2, [-1, 7 * 7 * 64])\n",
    "```\n",
    "\n",
    "In the `reshape()` operation above, the `-1` signifies that the *`batch_size`*\n",
    "dimension will be dynamically calculated based on the number of examples in our\n",
    "input data. Each example has 7 (`pool2` height) * 7 (`pool2` width) * 64\n",
    "(`pool2` channels) features, so we want the `features` dimension to have a value\n",
    "of 7 * 7 * 64 (3136 in total). The output tensor, `pool2_flat`, has shape\n",
    "<code>[<em>batch_size</em>, 3136]</code>.\n",
    "\n",
    "Now, we can use the `dense()` method in `layers` to connect our dense layer as\n",
    "follows:\n",
    "\n",
    "```\n",
    "dense = tf.layers.dense(inputs=pool2_flat, units=1024, activation=tf.nn.relu)\n",
    "```\n",
    "\n",
    "The `inputs` argument specifies the input tensor: our flattened feature map,\n",
    "`pool2_flat`. The `units` argument specifies the number of neurons in the dense\n",
    "layer (1,024). The `activation` argument takes the activation function; again,\n",
    "we'll use `tf.nn.relu` to add ReLU activation.\n",
    "\n",
    "To help improve the results of our model, we also apply dropout regularization\n",
    "to our dense layer, using the `dropout` method in `layers`:\n",
    "\n",
    "```\n",
    "dropout = tf.layers.dropout(\n",
    "    inputs=dense, rate=0.4, training=mode == tf.estimator.ModeKeys.TRAIN)\n",
    "```\n",
    "\n",
    "Again, `inputs` specifies the input tensor, which is the output tensor from our\n",
    "dense layer (`dense`).\n",
    "\n",
    "The `rate` argument specifies the dropout rate; here, we use `0.4`, which means\n",
    "40% of the elements will be randomly dropped out during training.\n",
    "\n",
    "The `training` argument takes a boolean specifying whether or not the model is\n",
    "currently being run in training mode; dropout will only be performed if\n",
    "`training` is `True`. Here, we check if the `mode` passed to our model function\n",
    "`cnn_model_fn` is `TRAIN` mode.\n",
    "\n",
    "Our output tensor `dropout` has shape <code>[<em>batch_size</em>, 1024]</code>."
   ]
  },
  {
   "cell_type": "markdown",
   "metadata": {
    "colab_type": "text",
    "id": "rzUcwkCZSTF7"
   },
   "source": [
    "### Logits Layer\n",
    "\n",
    "The final layer in our neural network is the logits layer, which will return the\n",
    "raw values for our predictions. We create a dense layer with 10 neurons (one for\n",
    "each target class 0–9), with linear activation (the default):\n",
    "\n",
    "```\n",
    "logits = tf.layers.dense(inputs=dropout, units=10)\n",
    "```\n",
    "\n",
    "Our final output tensor of the CNN, `logits`, has shape `[batch_size, 10]`."
   ]
  },
  {
   "cell_type": "markdown",
   "metadata": {
    "colab_type": "text",
    "id": "y3uJ0V1KSakc"
   },
   "source": [
    "### Generate Predictions {#generate_predictions}\n",
    "\n",
    "The logits layer of our model returns our predictions as raw values in a\n",
    "<code>[<em>batch_size</em>, 10]</code>-dimensional tensor. Let's convert these\n",
    "raw values into two different formats that our model function can return:\n",
    "\n",
    "*   The **predicted class** for each example: a digit from 0–9.\n",
    "*   The **probabilities** for each possible target class for each example: the\n",
    "    probability that the example is a 0, is a 1, is a 2, etc.\n",
    "\n",
    "For a given example, our predicted class is the element in the corresponding row\n",
    "of the logits tensor with the highest raw value. We can find the index of this\n",
    "element using the `tf.argmax`\n",
    "function:\n",
    "\n",
    "```\n",
    "tf.argmax(input=logits, axis=1)\n",
    "```\n",
    "\n",
    "The `input` argument specifies the tensor from which to extract maximum\n",
    "values—here `logits`. The `axis` argument specifies the axis of the `input`\n",
    "tensor along which to find the greatest value. Here, we want to find the largest\n",
    "value along the dimension with index of 1, which corresponds to our predictions\n",
    "(recall that our logits tensor has shape <code>[<em>batch_size</em>,\n",
    "10]</code>).\n",
    "\n",
    "We can derive probabilities from our logits layer by applying softmax activation\n",
    "using `tf.nn.softmax`:\n",
    "\n",
    "```\n",
    "tf.nn.softmax(logits, name=\"softmax_tensor\")\n",
    "```\n",
    "\n",
    "Note: We use the `name` argument to explicitly name this operation `softmax_tensor`, so we can reference it later. (We'll set up logging for the softmax values in [\"Set Up a Logging Hook\"](#set-up-a-logging-hook)).\n",
    "\n",
    "We compile our predictions in a dict, and return an `EstimatorSpec` object:\n",
    "\n",
    "```\n",
    "predictions = {\n",
    "    \"classes\": tf.argmax(input=logits, axis=1),\n",
    "    \"probabilities\": tf.nn.softmax(logits, name=\"softmax_tensor\")\n",
    "}\n",
    "if mode == tf.estimator.ModeKeys.PREDICT:\n",
    "  return tf.estimator.EstimatorSpec(mode=mode, predictions=predictions)\n",
    "```"
   ]
  },
  {
   "cell_type": "markdown",
   "metadata": {
    "colab_type": "text",
    "id": "f2ks_tqSSucg"
   },
   "source": [
    "### Calculate Loss {#calculating-loss}\n",
    "\n",
    "For both training and evaluation, we need to define a\n",
    "[loss function](https://en.wikipedia.org/wiki/Loss_function)\n",
    "that measures how closely the model's predictions match the target classes. For\n",
    "multiclass classification problems like MNIST,\n",
    "[cross entropy](https://en.wikipedia.org/wiki/Cross_entropy) is typically used\n",
    "as the loss metric. The following code calculates cross entropy when the model\n",
    "runs in either `TRAIN` or `EVAL` mode:\n",
    "\n",
    "```\n",
    "loss = tf.losses.sparse_softmax_cross_entropy(labels=labels, logits=logits)\n",
    "```\n",
    "\n",
    "Let's take a closer look at what's happening above.\n",
    "\n",
    "Our `labels` tensor contains a list of prediction indices for our examples, e.g. `[1,\n",
    "9, ...]`. `logits` contains the linear outputs of our last layer.\n",
    "\n",
    "`tf.losses.sparse_softmax_cross_entropy`, calculates the softmax crossentropy\n",
    "(aka: categorical crossentropy, negative log-likelihood) from these two inputs\n",
    "in an efficient, numerically stable way."
   ]
  },
  {
   "cell_type": "markdown",
   "metadata": {
    "colab_type": "text",
    "id": "YgE7Ll3pS2FG"
   },
   "source": [
    "### Configure the Training Op\n",
    "\n",
    "In the previous section, we defined loss for our CNN as the softmax\n",
    "cross-entropy of the logits layer and our labels. Let's configure our model to\n",
    "optimize this loss value during training. We'll use a learning rate of 0.001 and\n",
    "[stochastic gradient descent](https://en.wikipedia.org/wiki/Stochastic_gradient_descent)\n",
    "as the optimization algorithm:\n",
    "\n",
    "```\n",
    "if mode == tf.estimator.ModeKeys.TRAIN:\n",
    "  optimizer = tf.train.GradientDescentOptimizer(learning_rate=0.001)\n",
    "  train_op = optimizer.minimize(\n",
    "      loss=loss,\n",
    "      global_step=tf.train.get_global_step())\n",
    "  return tf.estimator.EstimatorSpec(mode=mode, loss=loss, train_op=train_op)\n",
    "```"
   ]
  },
  {
   "cell_type": "markdown",
   "metadata": {
    "colab_type": "text",
    "id": "rEJPnXAzS6m9"
   },
   "source": [
    "Note: For a more in-depth look at configuring training ops for Estimator model functions, see [\"Defining the training op for the model\"](../../guide/custom_estimators.md#defining-the-training-op-for-the-model) in the [\"Creating Estimations in tf.estimator\"](../../guide/custom_estimators.md) tutorial."
   ]
  },
  {
   "cell_type": "markdown",
   "metadata": {
    "colab_type": "text",
    "id": "QQuGDWvHTAib"
   },
   "source": [
    "### Add evaluation metrics\n",
    "\n",
    "To add accuracy metric in our model, we define `eval_metric_ops` dict in EVAL\n",
    "mode as follows:\n",
    "\n",
    "```\n",
    "eval_metric_ops = {\n",
    "    \"accuracy\": tf.metrics.accuracy(\n",
    "        labels=labels, predictions=predictions[\"classes\"])\n",
    "}\n",
    "return tf.estimator.EstimatorSpec(\n",
    "    mode=mode, loss=loss, eval_metric_ops=eval_metric_ops)\n",
    "```"
   ]
  },
  {
   "cell_type": "markdown",
   "metadata": {
    "colab_type": "text",
    "id": "Y2Bwe-AdTRzX"
   },
   "source": [
    "<a id=\"train_eval_mnist\"></a>\n",
    "## Training and Evaluating the CNN MNIST Classifier\n",
    "\n",
    "We've coded our MNIST CNN model function; now we're ready to train and evaluate\n",
    "it."
   ]
  },
  {
   "cell_type": "markdown",
   "metadata": {
    "colab_type": "text",
    "id": "6EC9aOY2TTLU"
   },
   "source": [
    "### Load Training and Test Data\n",
    "\n",
    "First, let's load our training and test data with the following code:"
   ]
  },
  {
   "cell_type": "code",
   "execution_count": 4,
   "metadata": {
    "ExecuteTime": {
     "end_time": "2019-04-23T03:18:44.289916Z",
     "start_time": "2019-04-23T03:18:43.284121Z"
    },
    "colab": {},
    "colab_type": "code",
    "id": "ccobb0qETV-S"
   },
   "outputs": [],
   "source": [
    "# Load training and eval data\n",
    "((train_data, train_labels),\n",
    " (eval_data, eval_labels)) = tf.keras.datasets.mnist.load_data()\n",
    "\n",
    "train_data = train_data/np.float32(255)\n",
    "train_labels = train_labels.astype(np.int32)  # not required\n",
    "\n",
    "eval_data = eval_data/np.float32(255)\n",
    "eval_labels = eval_labels.astype(np.int32)  # not required"
   ]
  },
  {
   "cell_type": "markdown",
   "metadata": {
    "colab_type": "text",
    "id": "8l84-IxSTZnO"
   },
   "source": [
    "We store the training feature data (the raw pixel values for 55,000 images of\n",
    "hand-drawn digits) and training labels (the corresponding value from 0–9 for\n",
    "each image) as [numpy\n",
    "arrays](https://docs.scipy.org/doc/numpy/reference/generated/numpy.array.html)\n",
    "in `train_data` and `train_labels`, respectively. Similarly, we store the\n",
    "evaluation feature data (10,000 images) and evaluation labels in `eval_data`\n",
    "and `eval_labels`, respectively."
   ]
  },
  {
   "cell_type": "markdown",
   "metadata": {
    "colab_type": "text",
    "id": "S2_Isc7kTa45"
   },
   "source": [
    "### Create the Estimator {#create-the-estimator}\n",
    "\n",
    "Next, let's create an `Estimator` (a TensorFlow class for performing high-level\n",
    "model training, evaluation, and inference) for our model. Add the following code\n",
    "to `main()`:"
   ]
  },
  {
   "cell_type": "code",
   "execution_count": 5,
   "metadata": {
    "ExecuteTime": {
     "end_time": "2019-04-23T03:18:44.315553Z",
     "start_time": "2019-04-23T03:18:44.289916Z"
    },
    "colab": {},
    "colab_type": "code",
    "id": "yjC6HdwZTdg4"
   },
   "outputs": [
    {
     "name": "stdout",
     "output_type": "stream",
     "text": [
      "INFO:tensorflow:Using default config.\n",
      "INFO:tensorflow:Using config: {'_model_dir': '/tmp/mnist_convnet_model', '_tf_random_seed': None, '_save_summary_steps': 100, '_save_checkpoints_steps': None, '_save_checkpoints_secs': 600, '_session_config': allow_soft_placement: true\n",
      "graph_options {\n",
      "  rewrite_options {\n",
      "    meta_optimizer_iterations: ONE\n",
      "  }\n",
      "}\n",
      ", '_keep_checkpoint_max': 5, '_keep_checkpoint_every_n_hours': 10000, '_log_step_count_steps': 100, '_train_distribute': None, '_device_fn': None, '_protocol': None, '_eval_distribute': None, '_experimental_distribute': None, '_service': None, '_cluster_spec': <tensorflow.python.training.server_lib.ClusterSpec object at 0x000001F347412D68>, '_task_type': 'worker', '_task_id': 0, '_global_id_in_cluster': 0, '_master': '', '_evaluation_master': '', '_is_chief': True, '_num_ps_replicas': 0, '_num_worker_replicas': 1}\n"
     ]
    }
   ],
   "source": [
    "# Create the Estimator\n",
    "mnist_classifier = tf.estimator.Estimator(\n",
    "    model_fn=cnn_model_fn, model_dir=\"/tmp/mnist_convnet_model\")"
   ]
  },
  {
   "cell_type": "markdown",
   "metadata": {
    "colab_type": "text",
    "id": "f78EBcg7TfTU"
   },
   "source": [
    "The `model_fn` argument specifies the model function to use for training,\n",
    "evaluation, and prediction; we pass it the `cnn_model_fn` we created in\n",
    "[\"Building the CNN MNIST Classifier.\"](#building-the-cnn-mnist-classifier) The\n",
    "`model_dir` argument specifies the directory where model data (checkpoints) will\n",
    "be saved (here, we specify the temp directory `/tmp/mnist_convnet_model`, but\n",
    "feel free to change to another directory of your choice).\n",
    "\n",
    "Note: For an in-depth walkthrough of the TensorFlow `Estimator` API, see the tutorial [Creating Estimators in tf.estimator](../../guide/custom_estimators.md)."
   ]
  },
  {
   "cell_type": "markdown",
   "metadata": {
    "colab_type": "text",
    "id": "_6ow7hVYTm3f"
   },
   "source": [
    "### Set Up a Logging Hook {#set_up_a_logging_hook}\n",
    "\n",
    "Since CNNs can take a while to train, let's set up some logging so we can track\n",
    "progress during training. We can use TensorFlow's `tf.train.SessionRunHook` to create a\n",
    "`tf.train.LoggingTensorHook`\n",
    "that will log the probability values from the softmax layer of our CNN. Add the\n",
    "following to `main()`:"
   ]
  },
  {
   "cell_type": "code",
   "execution_count": 6,
   "metadata": {
    "ExecuteTime": {
     "end_time": "2019-04-23T03:18:44.362424Z",
     "start_time": "2019-04-23T03:18:44.315553Z"
    },
    "colab": {},
    "colab_type": "code",
    "id": "S6T10kssTpdz"
   },
   "outputs": [],
   "source": [
    "# Set up logging for predictions\n",
    "tensors_to_log = {\"probabilities\": \"softmax_tensor\"}\n",
    "\n",
    "logging_hook = tf.train.LoggingTensorHook(\n",
    "    tensors=tensors_to_log, every_n_iter=50)"
   ]
  },
  {
   "cell_type": "markdown",
   "metadata": {
    "colab_type": "text",
    "id": "RZdtZ6JQTsmg"
   },
   "source": [
    "We store a dict of the tensors we want to log in `tensors_to_log`. Each key is a\n",
    "label of our choice that will be printed in the log output, and the\n",
    "corresponding label is the name of a `Tensor` in the TensorFlow graph. Here, our\n",
    "`probabilities` can be found in `softmax_tensor`, the name we gave our softmax\n",
    "operation earlier when we generated the probabilities in `cnn_model_fn`.\n",
    "\n",
    "Note: If you don't explicitly assign a name to an operation via the `name` argument, TensorFlow will assign a default name. A couple easy ways to discover the names applied to operations are to visualize your graph on [TensorBoard](../../guide/graph_viz.md)) or to enable the [TensorFlow Debugger (tfdbg)](../../guide/debugger.md).\n",
    "\n",
    "Next, we create the `LoggingTensorHook`, passing `tensors_to_log` to the\n",
    "`tensors` argument. We set `every_n_iter=50`, which specifies that probabilities\n",
    "should be logged after every 50 steps of training."
   ]
  },
  {
   "cell_type": "markdown",
   "metadata": {
    "colab_type": "text",
    "id": "brVs1dRMT0NM"
   },
   "source": [
    "### Train the Model\n",
    "\n",
    "Now we're ready to train our model, which we can do by creating `train_input_fn`\n",
    "and calling `train()` on `mnist_classifier`. In the `numpy_input_fn` call, we pass the training feature data and labels to\n",
    "`x` (as a dict) and `y`, respectively. We set a `batch_size` of `100` (which\n",
    "means that the model will train on minibatches of 100 examples at each step).\n",
    "`num_epochs=None` means that the model will train until the specified number of\n",
    "steps is reached. We also set `shuffle=True` to shuffle the training data. Then train the model a single step and log the output:"
   ]
  },
  {
   "cell_type": "code",
   "execution_count": 7,
   "metadata": {
    "ExecuteTime": {
     "end_time": "2019-04-23T03:18:52.777441Z",
     "start_time": "2019-04-23T03:18:44.362424Z"
    },
    "colab": {},
    "colab_type": "code",
    "id": "h-dewpleT2sk"
   },
   "outputs": [
    {
     "name": "stdout",
     "output_type": "stream",
     "text": [
      "WARNING:tensorflow:From D:\\anaconda3\\envs\\tensorflow\\lib\\site-packages\\tensorflow\\python\\framework\\op_def_library.py:263: colocate_with (from tensorflow.python.framework.ops) is deprecated and will be removed in a future version.\n",
      "Instructions for updating:\n",
      "Colocations handled automatically by placer.\n",
      "WARNING:tensorflow:From D:\\anaconda3\\envs\\tensorflow\\lib\\site-packages\\tensorflow_estimator\\python\\estimator\\inputs\\queues\\feeding_queue_runner.py:62: QueueRunner.__init__ (from tensorflow.python.training.queue_runner_impl) is deprecated and will be removed in a future version.\n",
      "Instructions for updating:\n",
      "To construct input pipelines, use the `tf.data` module.\n",
      "WARNING:tensorflow:From D:\\anaconda3\\envs\\tensorflow\\lib\\site-packages\\tensorflow_estimator\\python\\estimator\\inputs\\queues\\feeding_functions.py:500: add_queue_runner (from tensorflow.python.training.queue_runner_impl) is deprecated and will be removed in a future version.\n",
      "Instructions for updating:\n",
      "To construct input pipelines, use the `tf.data` module.\n",
      "INFO:tensorflow:Calling model_fn.\n",
      "WARNING:tensorflow:From <ipython-input-3-8582fe0b0695>:13: conv2d (from tensorflow.python.layers.convolutional) is deprecated and will be removed in a future version.\n",
      "Instructions for updating:\n",
      "Use keras.layers.conv2d instead.\n",
      "WARNING:tensorflow:From <ipython-input-3-8582fe0b0695>:17: max_pooling2d (from tensorflow.python.layers.pooling) is deprecated and will be removed in a future version.\n",
      "Instructions for updating:\n",
      "Use keras.layers.max_pooling2d instead.\n",
      "WARNING:tensorflow:From <ipython-input-3-8582fe0b0695>:30: dense (from tensorflow.python.layers.core) is deprecated and will be removed in a future version.\n",
      "Instructions for updating:\n",
      "Use keras.layers.dense instead.\n",
      "WARNING:tensorflow:From <ipython-input-3-8582fe0b0695>:32: dropout (from tensorflow.python.layers.core) is deprecated and will be removed in a future version.\n",
      "Instructions for updating:\n",
      "Use keras.layers.dropout instead.\n",
      "WARNING:tensorflow:From D:\\anaconda3\\envs\\tensorflow\\lib\\site-packages\\tensorflow\\python\\keras\\layers\\core.py:143: calling dropout (from tensorflow.python.ops.nn_ops) with keep_prob is deprecated and will be removed in a future version.\n",
      "Instructions for updating:\n",
      "Please use `rate` instead of `keep_prob`. Rate should be set to `rate = 1 - keep_prob`.\n",
      "WARNING:tensorflow:From D:\\anaconda3\\envs\\tensorflow\\lib\\site-packages\\tensorflow\\python\\ops\\losses\\losses_impl.py:209: to_float (from tensorflow.python.ops.math_ops) is deprecated and will be removed in a future version.\n",
      "Instructions for updating:\n",
      "Use tf.cast instead.\n",
      "INFO:tensorflow:Done calling model_fn.\n",
      "INFO:tensorflow:Create CheckpointSaverHook.\n",
      "INFO:tensorflow:Graph was finalized.\n",
      "INFO:tensorflow:Running local_init_op.\n",
      "INFO:tensorflow:Done running local_init_op.\n",
      "WARNING:tensorflow:From D:\\anaconda3\\envs\\tensorflow\\lib\\site-packages\\tensorflow\\python\\training\\monitored_session.py:809: start_queue_runners (from tensorflow.python.training.queue_runner_impl) is deprecated and will be removed in a future version.\n",
      "Instructions for updating:\n",
      "To construct input pipelines, use the `tf.data` module.\n",
      "INFO:tensorflow:Saving checkpoints for 0 into /tmp/mnist_convnet_model\\model.ckpt.\n",
      "INFO:tensorflow:probabilities = [[0.10283119 0.10464518 0.09416659 0.0982988  0.10635513 0.10542313\n",
      "  0.10146013 0.0900894  0.10567089 0.09105954]\n",
      " [0.09200762 0.0991796  0.09606063 0.10844894 0.11386279 0.09760818\n",
      "  0.09641851 0.09954791 0.10258311 0.09428273]\n",
      " [0.09994937 0.1027363  0.10422324 0.09763919 0.10565405 0.09681434\n",
      "  0.10702756 0.09223165 0.10039075 0.09333361]\n",
      " [0.0924404  0.09680483 0.10434662 0.10915762 0.10452798 0.10035452\n",
      "  0.09875656 0.10645546 0.09309191 0.09406407]\n",
      " [0.10087343 0.10195974 0.10608767 0.09860193 0.11351505 0.08921644\n",
      "  0.10643838 0.09281113 0.09952803 0.09096818]\n",
      " [0.09460095 0.09630848 0.10179142 0.11036836 0.11443433 0.10021017\n",
      "  0.10720376 0.08859742 0.0931439  0.09334121]\n",
      " [0.08905513 0.10073093 0.09163816 0.09799369 0.11381818 0.09952956\n",
      "  0.09884114 0.10416684 0.10752204 0.09670425]\n",
      " [0.10442645 0.1080336  0.10185473 0.10265818 0.10614876 0.09513257\n",
      "  0.10112409 0.09177548 0.09369333 0.09515285]\n",
      " [0.10239463 0.10215995 0.0968307  0.10385866 0.11619093 0.09583843\n",
      "  0.10191178 0.09703846 0.10262598 0.08115049]\n",
      " [0.08608258 0.10606775 0.09403386 0.10275093 0.12398262 0.09767982\n",
      "  0.10957588 0.09088873 0.09494625 0.09399156]\n",
      " [0.08866902 0.096265   0.09946281 0.10367923 0.11008134 0.09687362\n",
      "  0.11774018 0.09675914 0.09823995 0.09222975]\n",
      " [0.09375767 0.10020351 0.08840029 0.10349573 0.12437513 0.09234223\n",
      "  0.09853006 0.09508251 0.10900051 0.09481234]\n",
      " [0.09026878 0.10668328 0.08549947 0.10547099 0.11905902 0.09518179\n",
      "  0.10226461 0.09628469 0.10041919 0.09886816]\n",
      " [0.09158098 0.09774745 0.09285386 0.09954645 0.11488235 0.10173553\n",
      "  0.1048036  0.09149162 0.10769556 0.09766259]\n",
      " [0.08777096 0.10330391 0.10541755 0.10253774 0.11569116 0.09772396\n",
      "  0.10049686 0.09647329 0.0910369  0.09954758]\n",
      " [0.08694317 0.10823101 0.09172416 0.10139946 0.1201622  0.10792072\n",
      "  0.09540198 0.09531182 0.09912558 0.09377991]\n",
      " [0.10054647 0.1052674  0.09241861 0.09297987 0.11399893 0.09820801\n",
      "  0.10678786 0.0990184  0.09508845 0.09568606]\n",
      " [0.08638421 0.10055294 0.10343029 0.10402275 0.11551565 0.0994352\n",
      "  0.10452412 0.08921004 0.10082094 0.09610385]\n",
      " [0.09066455 0.10129366 0.09619238 0.10184695 0.11463895 0.10113785\n",
      "  0.10047591 0.10003696 0.10194145 0.09177126]\n",
      " [0.09472355 0.10430856 0.10008027 0.10535687 0.11548961 0.09472548\n",
      "  0.10223486 0.0919917  0.10021545 0.09087366]\n",
      " [0.09575853 0.09699161 0.09968408 0.10042892 0.11740424 0.09458484\n",
      "  0.10205149 0.09501873 0.10090591 0.0971716 ]\n",
      " [0.09724541 0.10562558 0.09394086 0.09068826 0.11226025 0.0983549\n",
      "  0.10700531 0.10076477 0.09922785 0.09488684]\n",
      " [0.08913425 0.10069418 0.10115399 0.10382412 0.11416388 0.10192686\n",
      "  0.09952967 0.09044544 0.1040933  0.09503428]\n",
      " [0.09421488 0.1005176  0.10182553 0.10168625 0.1131357  0.09792564\n",
      "  0.09570655 0.09954683 0.10446763 0.09097326]\n",
      " [0.09128659 0.10137599 0.08417971 0.1051111  0.11392871 0.09151483\n",
      "  0.10603984 0.10016044 0.10420097 0.10220178]\n",
      " [0.10009937 0.09230544 0.09550865 0.1009835  0.11670236 0.09926865\n",
      "  0.10511592 0.0912151  0.10127759 0.09752338]\n",
      " [0.10123509 0.10510125 0.09528382 0.09896997 0.11186384 0.09759377\n",
      "  0.09959832 0.09801161 0.09979688 0.09254543]\n",
      " [0.08970845 0.10177021 0.10930667 0.10008925 0.11511903 0.09937438\n",
      "  0.1018824  0.09755891 0.08809923 0.0970915 ]\n",
      " [0.10117985 0.10148495 0.09535694 0.10574299 0.10998631 0.09568471\n",
      "  0.09544678 0.09780548 0.1004393  0.09687272]\n",
      " [0.0968942  0.10009622 0.09648127 0.11206915 0.11166497 0.09266943\n",
      "  0.10833201 0.08663414 0.09970611 0.09545252]\n",
      " [0.09084057 0.10069732 0.09635159 0.09454414 0.11013632 0.10114338\n",
      "  0.10649913 0.10094081 0.10317964 0.09566717]\n",
      " [0.09424544 0.10035788 0.09609681 0.10373407 0.10784841 0.10199593\n",
      "  0.09677727 0.10681793 0.09678093 0.09534539]\n",
      " [0.09458084 0.10066549 0.09804386 0.10320129 0.11226299 0.09427901\n",
      "  0.10076463 0.09447825 0.10861869 0.09310497]\n",
      " [0.08805051 0.10733103 0.09447727 0.10910065 0.11199717 0.0935565\n",
      "  0.10098857 0.09739612 0.10423542 0.09286679]\n",
      " [0.09560656 0.10602806 0.09819119 0.0975828  0.10212101 0.10512178\n",
      "  0.10631224 0.09590816 0.10248435 0.09064383]\n",
      " [0.10294713 0.09239427 0.09815818 0.09615409 0.11643982 0.10224964\n",
      "  0.10267968 0.09588207 0.09891471 0.09418036]\n",
      " [0.08904945 0.09299231 0.0854454  0.101755   0.1182293  0.10523474\n",
      "  0.10327651 0.09829286 0.09717361 0.10855083]\n",
      " [0.08899552 0.10481407 0.09967333 0.11494829 0.09990834 0.09195754\n",
      "  0.10145545 0.091583   0.11444139 0.09222307]\n",
      " [0.08888431 0.1076109  0.0974011  0.11506318 0.09737888 0.1024624\n",
      "  0.09621506 0.09455825 0.11027078 0.09015525]\n",
      " [0.08968885 0.09321215 0.09609891 0.1034663  0.11359388 0.10361204\n",
      "  0.10069518 0.0973914  0.1119176  0.09032374]\n",
      " [0.09848726 0.11233619 0.09438469 0.10269007 0.11154884 0.09096079\n",
      "  0.1044563  0.09459768 0.09748738 0.09305079]\n",
      " [0.09664749 0.0980485  0.08976237 0.09359027 0.1191379  0.09336904\n",
      "  0.11289038 0.09303615 0.11047662 0.09304131]\n",
      " [0.0948685  0.10893109 0.10387965 0.09991696 0.11431547 0.09903742\n",
      "  0.10754974 0.09123101 0.09825784 0.08201224]\n",
      " [0.08813661 0.09243158 0.09983884 0.10611963 0.11239113 0.09125981\n",
      "  0.10293029 0.1023034  0.10575011 0.09883863]\n",
      " [0.10108962 0.09923872 0.09436068 0.09806012 0.11654293 0.10235544\n",
      "  0.10127446 0.09697363 0.09888099 0.09122342]\n",
      " [0.09736323 0.0954836  0.09852018 0.10220161 0.11555235 0.10174614\n",
      "  0.10364886 0.09398481 0.09706372 0.09443555]\n",
      " [0.09848485 0.09669961 0.09769644 0.09475508 0.10911151 0.09990219\n",
      "  0.10018125 0.09526907 0.10702923 0.10087088]\n",
      " [0.08763033 0.10329725 0.09725781 0.10035396 0.11156192 0.10856522\n",
      "  0.1011975  0.0946882  0.1016414  0.09380642]\n",
      " [0.09805995 0.09732669 0.09945551 0.09513192 0.11994934 0.09445548\n",
      "  0.10110147 0.09751504 0.10089274 0.09611188]\n",
      " [0.09784745 0.10129356 0.10357476 0.09513844 0.10835761 0.0931861\n",
      "  0.1061836  0.09935002 0.09894489 0.09612362]\n",
      " [0.09851387 0.11391879 0.09535582 0.09777337 0.10804384 0.09542916\n",
      "  0.10595542 0.09474335 0.10343327 0.08683306]\n",
      " [0.08887614 0.10276825 0.08962408 0.10078541 0.11540043 0.09320655\n",
      "  0.10299427 0.09771856 0.11049862 0.09812766]\n",
      " [0.09780441 0.10353799 0.08909989 0.10576492 0.11394744 0.09809875\n",
      "  0.10489403 0.09755592 0.09281975 0.09647694]\n",
      " [0.09465934 0.0958106  0.08704001 0.11720023 0.11013696 0.09374163\n",
      "  0.10797855 0.10315287 0.09004856 0.10023121]\n",
      " [0.08692832 0.10326163 0.10593629 0.10354924 0.11942904 0.09379605\n",
      "  0.09542058 0.09971712 0.09676559 0.09519619]\n",
      " [0.09711815 0.10197897 0.09528331 0.09631269 0.10450108 0.09439803\n",
      "  0.10956932 0.10009477 0.10276413 0.09797951]\n",
      " [0.08844126 0.09790999 0.10167946 0.09944625 0.10942631 0.10371581\n",
      "  0.11070714 0.09196874 0.09970029 0.09700473]\n",
      " [0.08948434 0.10193989 0.09527797 0.09753597 0.12179993 0.0957214\n",
      "  0.1097687  0.09645952 0.10116754 0.09084467]\n",
      " [0.09220704 0.10728523 0.10096314 0.10472457 0.11436915 0.08840978\n",
      "  0.09945276 0.10434838 0.10273849 0.08550145]\n",
      " [0.08735091 0.10048005 0.09499884 0.10376602 0.12060244 0.09706917\n",
      "  0.10426401 0.10371075 0.1010921  0.0866658 ]\n",
      " [0.09018687 0.10347213 0.09602585 0.10590769 0.11153029 0.09148727\n",
      "  0.10078959 0.09148061 0.11053605 0.09858359]\n",
      " [0.09007208 0.09900764 0.09148131 0.09775607 0.11637509 0.1050233\n",
      "  0.09718727 0.10624307 0.10049579 0.09635837]\n",
      " [0.09225082 0.10401976 0.09826478 0.09850954 0.10644094 0.10473724\n",
      "  0.09970529 0.09674408 0.10572673 0.09360088]\n",
      " [0.09574161 0.09763789 0.09751307 0.10213875 0.1190555  0.1006331\n",
      "  0.10454051 0.09381594 0.0994456  0.089478  ]\n",
      " [0.10310437 0.10764787 0.09314447 0.09671801 0.10991546 0.09821516\n",
      "  0.10839118 0.09432372 0.10250667 0.08603314]\n",
      " [0.08340128 0.10795177 0.09289092 0.09876599 0.1182371  0.09726194\n",
      "  0.10658723 0.09757803 0.11175688 0.08556888]\n",
      " [0.09769624 0.09809782 0.09112681 0.10400458 0.12011502 0.1019686\n",
      "  0.10199235 0.0989958  0.09316676 0.09283608]\n",
      " [0.09014685 0.10253017 0.09177156 0.09887876 0.11737318 0.09939773\n",
      "  0.10213124 0.09126303 0.11036468 0.0961428 ]\n",
      " [0.09399581 0.09337305 0.10529809 0.10043095 0.11707344 0.09521523\n",
      "  0.1061444  0.09752466 0.09712663 0.09381774]\n",
      " [0.09795569 0.1051683  0.09317452 0.09795304 0.11286876 0.09731086\n",
      "  0.09971945 0.10087252 0.10186121 0.09311564]\n",
      " [0.10359201 0.10242662 0.09080514 0.10980176 0.1191081  0.09447722\n",
      "  0.10685671 0.09081694 0.09685557 0.0852599 ]\n",
      " [0.10136765 0.10294329 0.09885223 0.10128971 0.10759536 0.0973933\n",
      "  0.10100172 0.09235809 0.10014568 0.09705288]\n",
      " [0.09694164 0.10055957 0.09950137 0.10077276 0.11088364 0.09196687\n",
      "  0.10987075 0.09444732 0.10332979 0.09172619]\n",
      " [0.094188   0.09689646 0.10208251 0.09585221 0.10493007 0.09945501\n",
      "  0.10299906 0.09570721 0.11346716 0.09442225]\n",
      " [0.10098415 0.0994255  0.0984035  0.11115309 0.10408874 0.10387684\n",
      "  0.09845249 0.09307522 0.09643892 0.09410153]\n",
      " [0.0982186  0.10224667 0.09115816 0.09521913 0.10581587 0.10065183\n",
      "  0.10774961 0.1016055  0.09750315 0.09983139]\n",
      " [0.09938721 0.095928   0.10225318 0.1009555  0.11974402 0.08987277\n",
      "  0.10235485 0.09743821 0.10202942 0.09003691]\n",
      " [0.09380211 0.09321822 0.09894702 0.10274864 0.11402002 0.1045604\n",
      "  0.09612737 0.10390425 0.09835298 0.09431901]\n",
      " [0.08555768 0.09955042 0.09952977 0.10351653 0.11166862 0.10112341\n",
      "  0.09338269 0.10854136 0.09594564 0.10118379]\n",
      " [0.09628601 0.10921032 0.09658329 0.09940534 0.10617983 0.1077173\n",
      "  0.09164631 0.09761302 0.09863406 0.09672446]\n",
      " [0.09960084 0.10543852 0.10216669 0.10433396 0.11259196 0.09702866\n",
      "  0.10535935 0.09228947 0.08979305 0.09139754]\n",
      " [0.08911497 0.09233821 0.1046004  0.10589759 0.11410997 0.09970257\n",
      "  0.105413   0.09661365 0.09879726 0.09341241]\n",
      " [0.09880497 0.10583571 0.10152692 0.09579557 0.10890462 0.099707\n",
      "  0.09878022 0.0983014  0.10083412 0.09150939]\n",
      " [0.09274406 0.10064613 0.08594987 0.10099334 0.10999661 0.09815235\n",
      "  0.10492186 0.10466268 0.10982709 0.09210598]\n",
      " [0.10000613 0.10278498 0.09451529 0.09553931 0.10875461 0.10194117\n",
      "  0.11119789 0.09134391 0.09917758 0.09473901]\n",
      " [0.10030618 0.10463601 0.10530006 0.09487536 0.10612869 0.0976005\n",
      "  0.10609812 0.0948872  0.10120562 0.08896215]\n",
      " [0.09771708 0.10222492 0.10411932 0.09533818 0.10821597 0.09733322\n",
      "  0.10420296 0.0969422  0.10604569 0.08786049]\n",
      " [0.08550897 0.10948959 0.09424768 0.10515608 0.11052375 0.09090977\n",
      "  0.1060267  0.09990838 0.09819044 0.10003857]\n",
      " [0.09066205 0.08918525 0.09284014 0.11524883 0.11135697 0.09424679\n",
      "  0.10322903 0.09802853 0.10556703 0.09963545]\n",
      " [0.10352619 0.11091474 0.09525323 0.10022402 0.10372009 0.09579897\n",
      "  0.1065109  0.09308852 0.09728346 0.09367998]\n",
      " [0.10472709 0.10472547 0.1018931  0.0999025  0.10206337 0.09796267\n",
      "  0.09820268 0.0915465  0.10107248 0.09790421]\n",
      " [0.0927331  0.09609685 0.10230839 0.10704081 0.11295869 0.09684092\n",
      "  0.1028906  0.09952458 0.09381977 0.09578634]\n",
      " [0.10024662 0.10157121 0.09358189 0.10571142 0.10896548 0.09898179\n",
      "  0.10277451 0.09432042 0.09375757 0.10008903]\n",
      " [0.09674978 0.10612945 0.09783096 0.09943678 0.1060025  0.09379503\n",
      "  0.09955559 0.10073049 0.10511521 0.09465418]\n",
      " [0.09824943 0.10274715 0.08688666 0.09790756 0.11514612 0.09606772\n",
      "  0.11387635 0.1003745  0.099508   0.08923654]\n",
      " [0.10141063 0.09909842 0.09854245 0.09580146 0.11034037 0.09408595\n",
      "  0.10473303 0.09566331 0.10082097 0.09950333]\n",
      " [0.09514872 0.09224972 0.09738699 0.1059446  0.09939871 0.09880836\n",
      "  0.103998   0.10093369 0.10961978 0.09651142]\n",
      " [0.09319665 0.10330679 0.10669868 0.10470959 0.10322509 0.09420222\n",
      "  0.1031393  0.09040904 0.10107092 0.10004175]\n",
      " [0.09560684 0.09795173 0.09523361 0.09498241 0.11542845 0.10428868\n",
      "  0.10142224 0.09062289 0.1040766  0.10038653]\n",
      " [0.08752663 0.10266083 0.10201009 0.10098632 0.10640144 0.10137041\n",
      "  0.10306317 0.09947325 0.09928144 0.09722652]]\n"
     ]
    },
    {
     "name": "stdout",
     "output_type": "stream",
     "text": [
      "INFO:tensorflow:loss = 2.3022149, step = 1\n",
      "INFO:tensorflow:Saving checkpoints for 1 into /tmp/mnist_convnet_model\\model.ckpt.\n",
      "INFO:tensorflow:Loss for final step: 2.3022149.\n"
     ]
    },
    {
     "data": {
      "text/plain": [
       "<tensorflow_estimator.python.estimator.estimator.Estimator at 0x1f3474127f0>"
      ]
     },
     "execution_count": 7,
     "metadata": {},
     "output_type": "execute_result"
    }
   ],
   "source": [
    "# Train the model\n",
    "train_input_fn = tf.estimator.inputs.numpy_input_fn(\n",
    "    x={\"x\": train_data},\n",
    "    y=train_labels,\n",
    "    batch_size=100,\n",
    "    num_epochs=None,\n",
    "    shuffle=True)\n",
    "\n",
    "# train one step and display the probabilties\n",
    "mnist_classifier.train(\n",
    "    input_fn=train_input_fn,\n",
    "    steps=1,\n",
    "    hooks=[logging_hook])"
   ]
  },
  {
   "cell_type": "markdown",
   "metadata": {
    "colab_type": "text",
    "id": "gyNSE3e-14Lq"
   },
   "source": [
    "Now—without logging each step—set `steps=1000` to train the model longer, but in a reasonable time to run this example. Training CNNs is computationally intensive. To increase the accuracy of your model, increase the number of `steps` passed to `train()`, like 20,000 steps."
   ]
  },
  {
   "cell_type": "code",
   "execution_count": 8,
   "metadata": {
    "ExecuteTime": {
     "end_time": "2019-04-23T03:23:20.527833Z",
     "start_time": "2019-04-23T03:18:52.777441Z"
    },
    "colab": {},
    "colab_type": "code",
    "id": "cri6zqcf2IXY"
   },
   "outputs": [
    {
     "name": "stdout",
     "output_type": "stream",
     "text": [
      "INFO:tensorflow:Calling model_fn.\n",
      "INFO:tensorflow:Done calling model_fn.\n",
      "INFO:tensorflow:Create CheckpointSaverHook.\n",
      "INFO:tensorflow:Graph was finalized.\n",
      "WARNING:tensorflow:From D:\\anaconda3\\envs\\tensorflow\\lib\\site-packages\\tensorflow\\python\\training\\saver.py:1266: checkpoint_exists (from tensorflow.python.training.checkpoint_management) is deprecated and will be removed in a future version.\n",
      "Instructions for updating:\n",
      "Use standard file APIs to check for files with this prefix.\n",
      "INFO:tensorflow:Restoring parameters from /tmp/mnist_convnet_model\\model.ckpt-1\n",
      "WARNING:tensorflow:From D:\\anaconda3\\envs\\tensorflow\\lib\\site-packages\\tensorflow\\python\\training\\saver.py:1070: get_checkpoint_mtimes (from tensorflow.python.training.checkpoint_management) is deprecated and will be removed in a future version.\n",
      "Instructions for updating:\n",
      "Use standard file utilities to get mtimes.\n",
      "INFO:tensorflow:Running local_init_op.\n",
      "INFO:tensorflow:Done running local_init_op.\n",
      "INFO:tensorflow:Saving checkpoints for 1 into /tmp/mnist_convnet_model\\model.ckpt.\n",
      "INFO:tensorflow:loss = 2.305495, step = 2\n",
      "INFO:tensorflow:global_step/sec: 3.67678\n",
      "INFO:tensorflow:loss = 2.2880409, step = 102 (27.198 sec)\n",
      "INFO:tensorflow:global_step/sec: 3.80927\n",
      "INFO:tensorflow:loss = 2.2836552, step = 202 (26.262 sec)\n",
      "INFO:tensorflow:global_step/sec: 3.71064\n",
      "INFO:tensorflow:loss = 2.2627637, step = 302 (26.939 sec)\n",
      "INFO:tensorflow:global_step/sec: 3.8472\n",
      "INFO:tensorflow:loss = 2.2543213, step = 402 (25.993 sec)\n",
      "INFO:tensorflow:global_step/sec: 3.80759\n",
      "INFO:tensorflow:loss = 2.248245, step = 502 (26.282 sec)\n",
      "INFO:tensorflow:global_step/sec: 3.63479\n",
      "INFO:tensorflow:loss = 2.2130382, step = 602 (27.496 sec)\n",
      "INFO:tensorflow:global_step/sec: 3.91629\n",
      "INFO:tensorflow:loss = 2.2041862, step = 702 (25.532 sec)\n",
      "INFO:tensorflow:global_step/sec: 3.83435\n",
      "INFO:tensorflow:loss = 2.1581075, step = 802 (26.096 sec)\n",
      "INFO:tensorflow:global_step/sec: 3.86071\n",
      "INFO:tensorflow:loss = 2.151338, step = 902 (25.886 sec)\n",
      "INFO:tensorflow:Saving checkpoints for 1001 into /tmp/mnist_convnet_model\\model.ckpt.\n",
      "INFO:tensorflow:Loss for final step: 2.105354.\n"
     ]
    },
    {
     "data": {
      "text/plain": [
       "<tensorflow_estimator.python.estimator.estimator.Estimator at 0x1f3474127f0>"
      ]
     },
     "execution_count": 8,
     "metadata": {},
     "output_type": "execute_result"
    }
   ],
   "source": [
    "mnist_classifier.train(input_fn=train_input_fn, steps=1000)"
   ]
  },
  {
   "cell_type": "markdown",
   "metadata": {
    "colab_type": "text",
    "id": "4bQdkLMeUE5U"
   },
   "source": [
    "### Evaluate the Model\n",
    "\n",
    "Once training is complete, we want to evaluate our model to determine its\n",
    "accuracy on the MNIST test set. We call the `evaluate` method, which evaluates\n",
    "the metrics we specified in `eval_metric_ops` argument in the `model_fn`.\n",
    "Add the following to `main()`:"
   ]
  },
  {
   "cell_type": "code",
   "execution_count": 9,
   "metadata": {
    "ExecuteTime": {
     "end_time": "2019-04-23T03:23:31.237885Z",
     "start_time": "2019-04-23T03:23:20.527833Z"
    },
    "colab": {},
    "colab_type": "code",
    "id": "I0RGiqd0UF0N"
   },
   "outputs": [
    {
     "name": "stdout",
     "output_type": "stream",
     "text": [
      "INFO:tensorflow:Calling model_fn.\n",
      "INFO:tensorflow:Done calling model_fn.\n",
      "INFO:tensorflow:Starting evaluation at 2019-04-23T03:23:21Z\n",
      "INFO:tensorflow:Graph was finalized.\n",
      "INFO:tensorflow:Restoring parameters from /tmp/mnist_convnet_model\\model.ckpt-1001\n",
      "INFO:tensorflow:Running local_init_op.\n",
      "INFO:tensorflow:Done running local_init_op.\n",
      "INFO:tensorflow:Finished evaluation at 2019-04-23-03:23:30\n",
      "INFO:tensorflow:Saving dict for global step 1001: accuracy = 0.6773, global_step = 1001, loss = 2.0860538\n",
      "INFO:tensorflow:Saving 'checkpoint_path' summary for global step 1001: /tmp/mnist_convnet_model\\model.ckpt-1001\n",
      "{'accuracy': 0.6773, 'loss': 2.0860538, 'global_step': 1001}\n"
     ]
    }
   ],
   "source": [
    "eval_input_fn = tf.estimator.inputs.numpy_input_fn(\n",
    "    x={\"x\": eval_data},\n",
    "    y=eval_labels,\n",
    "    num_epochs=1,\n",
    "    shuffle=False)\n",
    "\n",
    "eval_results = mnist_classifier.evaluate(input_fn=eval_input_fn)\n",
    "print(eval_results)"
   ]
  },
  {
   "cell_type": "markdown",
   "metadata": {
    "colab_type": "text",
    "id": "JIBVID6dUIXT"
   },
   "source": [
    "To create `eval_input_fn`, we set `num_epochs=1`, so that the model evaluates\n",
    "the metrics over one epoch of data and returns the result. We also set\n",
    "`shuffle=False` to iterate through the data sequentially."
   ]
  },
  {
   "cell_type": "markdown",
   "metadata": {
    "colab_type": "text",
    "id": "htmLZ-zEUZZk"
   },
   "source": [
    "## Additional Resources\n",
    "\n",
    "To learn more about TensorFlow Estimators and CNNs in TensorFlow, see the\n",
    "following resources:\n",
    "\n",
    "*   [Creating Estimators in tf.estimator](../../guide/custom_estimators.md)\n",
    "    provides an introduction to the TensorFlow Estimator API. It walks through\n",
    "    configuring an Estimator, writing a model function, calculating loss, and\n",
    "    defining a training op.\n",
    "*   [Advanced Convolutional Neural Networks](../../tutorials/images/deep_cnn.md) walks through how to build a MNIST CNN classification model\n",
    "    *without estimators* using lower-level TensorFlow operations."
   ]
  }
 ],
 "metadata": {
  "colab": {
   "collapsed_sections": [
    "Tce3stUlHN0L"
   ],
   "name": "cnn.ipynb",
   "private_outputs": true,
   "provenance": [],
   "toc_visible": true,
   "version": "0.3.2"
  },
  "hide_input": false,
  "kernelspec": {
   "display_name": "Python 3",
   "language": "python",
   "name": "python3"
  },
  "language_info": {
   "codemirror_mode": {
    "name": "ipython",
    "version": 3
   },
   "file_extension": ".py",
   "mimetype": "text/x-python",
   "name": "python",
   "nbconvert_exporter": "python",
   "pygments_lexer": "ipython3",
   "version": "3.7.7"
  },
  "toc": {
   "base_numbering": 1,
   "nav_menu": {},
   "number_sections": true,
   "sideBar": true,
   "skip_h1_title": false,
   "title_cell": "Table of Contents",
   "title_sidebar": "Contents",
   "toc_cell": false,
   "toc_position": {},
   "toc_section_display": true,
   "toc_window_display": false
  },
  "varInspector": {
   "cols": {
    "lenName": 16,
    "lenType": 16,
    "lenVar": 40
   },
   "kernels_config": {
    "python": {
     "delete_cmd_postfix": "",
     "delete_cmd_prefix": "del ",
     "library": "var_list.py",
     "varRefreshCmd": "print(var_dic_list())"
    },
    "r": {
     "delete_cmd_postfix": ") ",
     "delete_cmd_prefix": "rm(",
     "library": "var_list.r",
     "varRefreshCmd": "cat(var_dic_list()) "
    }
   },
   "types_to_exclude": [
    "module",
    "function",
    "builtin_function_or_method",
    "instance",
    "_Feature"
   ],
   "window_display": false
  }
 },
 "nbformat": 4,
 "nbformat_minor": 1
}
