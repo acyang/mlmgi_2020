{
 "cells": [
  {
   "cell_type": "markdown",
   "metadata": {
    "colab_type": "text",
    "id": "Tce3stUlHN0L"
   },
   "source": [
    "##### Copyright 2018 The TensorFlow Authors.\n",
    "\n"
   ]
  },
  {
   "cell_type": "code",
   "execution_count": 1,
   "metadata": {
    "ExecuteTime": {
     "end_time": "2019-04-23T03:18:11.677853Z",
     "start_time": "2019-04-23T03:18:11.646610Z"
    },
    "colab": {},
    "colab_type": "code",
    "id": "tuOe1ymfHZPu"
   },
   "outputs": [],
   "source": [
    "#@title Licensed under the Apache License, Version 2.0 (the \"License\");\n",
    "# you may not use this file except in compliance with the License.\n",
    "# You may obtain a copy of the License at\n",
    "#\n",
    "# https://www.apache.org/licenses/LICENSE-2.0\n",
    "#\n",
    "# Unless required by applicable law or agreed to in writing, software\n",
    "# distributed under the License is distributed on an \"AS IS\" BASIS,\n",
    "# WITHOUT WARRANTIES OR CONDITIONS OF ANY KIND, either express or implied.\n",
    "# See the License for the specific language governing permissions and\n",
    "# limitations under the License."
   ]
  },
  {
   "cell_type": "markdown",
   "metadata": {
    "colab_type": "text",
    "id": "MfBg1C5NB3X0"
   },
   "source": [
    "# Build a Convolutional Neural Network using Estimators\n",
    "\n",
    "<table class=\"tfo-notebook-buttons\" align=\"left\">\n",
    "  <td>\n",
    "    <a target=\"_blank\" href=\"https://www.tensorflow.org/tutorials/estimators/cnn\"><img src=\"https://www.tensorflow.org/images/tf_logo_32px.png\" />View on TensorFlow.org</a>\n",
    "  </td>\n",
    "  <td>\n",
    "    <a target=\"_blank\" href=\"https://colab.research.google.com/github/tensorflow/docs/blob/master/site/en/tutorials/estimators/cnn.ipynb\"><img src=\"https://www.tensorflow.org/images/colab_logo_32px.png\" />Run in Google Colab</a>\n",
    "  </td>\n",
    "  <td>\n",
    "    <a target=\"_blank\" href=\"https://github.com/tensorflow/docs/blob/master/site/en/tutorials/estimators/cnn.ipynb\"><img src=\"https://www.tensorflow.org/images/GitHub-Mark-32px.png\" />View source on GitHub</a>\n",
    "  </td>\n",
    "</table>"
   ]
  },
  {
   "cell_type": "markdown",
   "metadata": {
    "colab_type": "text",
    "id": "xHxb-dlhMIzW"
   },
   "source": [
    "The `tf.layers` module provides a high-level API that makes\n",
    "it easy to construct a neural network. It provides methods that facilitate the\n",
    "creation of dense (fully connected) layers and convolutional layers, adding\n",
    "activation functions, and applying dropout regularization. In this tutorial,\n",
    "you'll learn how to use `layers` to build a convolutional neural network model\n",
    "to recognize the handwritten digits in the MNIST data set.\n",
    "\n",
    "![handwritten digits 0–9 from the MNIST data set](https://www.tensorflow.org/images/mnist_0-9.png)\n",
    "\n",
    "The [MNIST dataset](http://yann.lecun.com/exdb/mnist/) comprises 60,000\n",
    "training examples and 10,000 test examples of the handwritten digits 0–9,\n",
    "formatted as 28x28-pixel monochrome images."
   ]
  },
  {
   "cell_type": "markdown",
   "metadata": {
    "colab_type": "text",
    "id": "wTe-6uXpP2Ts"
   },
   "source": [
    "## Get Started\n",
    "\n",
    "Let's set up the imports for our TensorFlow program:"
   ]
  },
  {
   "cell_type": "code",
   "execution_count": 2,
   "metadata": {
    "ExecuteTime": {
     "end_time": "2019-04-23T03:18:43.237251Z",
     "start_time": "2019-04-23T03:18:11.677853Z"
    },
    "colab": {},
    "colab_type": "code",
    "id": "6-tpguHLP6Rm"
   },
   "outputs": [],
   "source": [
    "from __future__ import absolute_import, division, print_function, unicode_literals\n",
    "\n",
    "import tensorflow as tf\n",
    "import numpy as np\n",
    "\n",
    "tf.logging.set_verbosity(tf.logging.INFO)"
   ]
  },
  {
   "cell_type": "markdown",
   "metadata": {},
   "source": [
    "https://www.tensorflow.org/api_docs/python/tf/logging/set_verbosity\n",
    "\n",
    "Sets the threshold for what messages will be logged, there are five levels threshold.\n",
    "* FATAL: 'FATAL'\n",
    "* ERROR: 'ERROR'\n",
    "* WARN: 'WARN'\n",
    "* INFO: 'INFO'\n",
    "* DEBUG: 'DEBUG'"
   ]
  },
  {
   "cell_type": "markdown",
   "metadata": {
    "colab_type": "text",
    "id": "bUxWLCdTQexM"
   },
   "source": [
    "As you work through the tutorial, you'll add code to construct, train, and\n",
    "evaluate the convolutional neural network. The complete, final code can be\n",
    "[found here](https://www.tensorflow.org/code/tensorflow/examples/tutorials/layers/cnn_mnist.py)."
   ]
  },
  {
   "cell_type": "markdown",
   "metadata": {
    "colab_type": "text",
    "id": "4j5yyyDFQgSB"
   },
   "source": [
    "## Intro to Convolutional Neural Networks\n",
    "\n",
    "Convolutional neural networks (CNNs) are the current state-of-the-art model\n",
    "architecture for image classification tasks. CNNs apply a series of filters to\n",
    "the raw pixel data of an image to extract and learn higher-level features, which\n",
    "the model can then use for classification. CNNs contains three components:\n",
    "\n",
    "*   **Convolutional layers**, which apply a specified number of convolution\n",
    "    filters to the image. For each subregion, the layer performs a set of\n",
    "    mathematical operations to produce a single value in the output feature map.\n",
    "    Convolutional layers then typically apply a\n",
    "    [ReLU activation function](https://en.wikipedia.org/wiki/Rectifier_\\(neural_networks\\)) to\n",
    "    the output to introduce nonlinearities into the model.\n",
    "\n",
    "*   **Pooling layers**, which\n",
    "    [downsample the image data](https://en.wikipedia.org/wiki/Convolutional_neural_network#Pooling_layer)\n",
    "    extracted by the convolutional layers to reduce the dimensionality of the\n",
    "    feature map in order to decrease processing time. A commonly used pooling\n",
    "    algorithm is max pooling, which extracts subregions of the feature map\n",
    "    (e.g., 2x2-pixel tiles), keeps their maximum value, and discards all other\n",
    "    values.\n",
    "\n",
    "*   **Dense (fully connected) layers**, which perform classification on the\n",
    "    features extracted by the convolutional layers and downsampled by the\n",
    "    pooling layers. In a dense layer, every node in the layer is connected to\n",
    "    every node in the preceding layer.\n",
    "\n",
    "Typically, a CNN is composed of a stack of convolutional modules that perform\n",
    "feature extraction. Each module consists of a convolutional layer followed by a\n",
    "pooling layer. The last convolutional module is followed by one or more dense\n",
    "layers that perform classification. The final dense layer in a CNN contains a\n",
    "single node for each target class in the model (all the possible classes the\n",
    "model may predict), with a\n",
    "[softmax](https://en.wikipedia.org/wiki/Softmax_function) activation function to\n",
    "generate a value between 0–1 for each node (the sum of all these softmax values\n",
    "is equal to 1). We can interpret the softmax values for a given image as\n",
    "relative measurements of how likely it is that the image falls into each target\n",
    "class.\n",
    "\n",
    "Note: For a more comprehensive walkthrough of CNN architecture, see Stanford University's [Convolutional Neural Networks for Visual Recognition course material](https://cs231n.github.io/convolutional-networks/)."
   ]
  },
  {
   "cell_type": "markdown",
   "metadata": {
    "colab_type": "text",
    "id": "j23E_Z0FQvZB"
   },
   "source": [
    "## Building the CNN MNIST Classifier\n",
    "\n",
    "Let's build a model to classify the images in the MNIST dataset using the\n",
    "following CNN architecture:\n",
    "\n",
    "1.  **Convolutional Layer #1**: Applies 32 5x5 filters (extracting 5x5-pixel\n",
    "    subregions), with ReLU activation function\n",
    "2.  **Pooling Layer #1**: Performs max pooling with a 2x2 filter and stride of 2\n",
    "    (which specifies that pooled regions do not overlap)\n",
    "3.  **Convolutional Layer #2**: Applies 64 5x5 filters, with ReLU activation\n",
    "    function\n",
    "4.  **Pooling Layer #2**: Again, performs max pooling with a 2x2 filter and\n",
    "    stride of 2\n",
    "5.  **Dense Layer #1**: 1,024 neurons, with dropout regularization rate of 0.4\n",
    "    (probability of 0.4 that any given element will be dropped during training)\n",
    "6.  **Dense Layer #2 (Logits Layer)**: 10 neurons, one for each digit target\n",
    "    class (0–9).\n",
    "\n",
    "![alt cnn](https://ai2-s2-public.s3.amazonaws.com/figures/2017-08-08/2934e9a15d0619d04ae4a4d4e2951e2ff4f45d93/21-FigureD.2-1.png)\n",
    "\n",
    "The `tf.layers` module contains methods to create each of the three layer types\n",
    "above:\n",
    "\n",
    "*   `conv2d()`. Constructs a two-dimensional convolutional layer. Takes number\n",
    "    of filters, filter kernel size, padding, and activation function as\n",
    "    arguments.\n",
    "*   `max_pooling2d()`. Constructs a two-dimensional pooling layer using the\n",
    "    max-pooling algorithm. Takes pooling filter size and stride as arguments.\n",
    "*   `dense()`. Constructs a dense layer. Takes number of neurons and activation\n",
    "    function as arguments.\n",
    "\n",
    "Each of these methods accepts a tensor as input and returns a transformed tensor\n",
    "as output. This makes it easy to connect one layer to another: just take the\n",
    "output from one layer-creation method and supply it as input to another.\n",
    "\n",
    "Add the following `cnn_model_fn` function, which\n",
    "conforms to the interface expected by TensorFlow's Estimator API (more on this\n",
    "later in [Create the Estimator](#create-the-estimator)). This function takes\n",
    "MNIST feature data, labels, and mode (from\n",
    "`tf.estimator.ModeKeys`: `TRAIN`, `EVAL`, `PREDICT`) as arguments;\n",
    "configures the CNN; and returns predictions, loss, and a training operation:"
   ]
  },
  {
   "cell_type": "code",
   "execution_count": 5,
   "metadata": {
    "ExecuteTime": {
     "end_time": "2019-04-23T03:18:43.284121Z",
     "start_time": "2019-04-23T03:18:43.237251Z"
    },
    "colab": {},
    "colab_type": "code",
    "hide_input": true,
    "id": "gMR-_3rkRKPa"
   },
   "outputs": [],
   "source": [
    "def cnn_model_fn(features, labels, mode):\n",
    "    \"\"\"Model function for CNN.\"\"\"\n",
    "    # Input Layer\n",
    "    input_layer = tf.reshape(features[\"x\"], [-1, 28, 28, 1])\n",
    "\n",
    "    # Convolutional Layer #1\n",
    "    ## https://www.tensorflow.org/api_docs/python/tf/layers/Conv2D#__call__\n",
    "    conv1 = tf.layers.conv2d(\n",
    "      inputs=input_layer,\n",
    "      filters=32,\n",
    "      kernel_size=[5, 5],\n",
    "      padding=\"same\",\n",
    "      activation=tf.nn.relu)\n",
    "\n",
    "    # Pooling Layer #1\n",
    "    ## https://www.tensorflow.org/api_docs/python/tf/layers/max_pooling2d\n",
    "    pool1 = tf.layers.max_pooling2d(inputs=conv1, pool_size=[2, 2], strides=2)\n",
    "\n",
    "    # Convolutional Layer #2 and Pooling Layer #2\n",
    "    conv2 = tf.layers.conv2d(\n",
    "      inputs=pool1,\n",
    "      filters=64,\n",
    "      kernel_size=[5, 5],\n",
    "      padding=\"same\",\n",
    "      activation=tf.nn.relu)\n",
    "    pool2 = tf.layers.max_pooling2d(inputs=conv2, pool_size=[2, 2], strides=2)\n",
    "\n",
    "    # Dense Layer\n",
    "    pool2_flat = tf.reshape(pool2, [-1, 7 * 7 * 64])\n",
    "    dense = tf.layers.dense(inputs=pool2_flat, units=1024, activation=tf.nn.relu)\n",
    "    dropout = tf.layers.dropout(\n",
    "      inputs=dense, rate=0.4, training=mode == tf.estimator.ModeKeys.TRAIN)\n",
    "\n",
    "    # Logits Layer\n",
    "    logits = tf.layers.dense(inputs=dropout, units=10)\n",
    "\n",
    "    predictions = {\n",
    "      # Generate predictions (for PREDICT and EVAL mode)\n",
    "      \"classes\": tf.argmax(input=logits, axis=1),\n",
    "      # Add `softmax_tensor` to the graph. It is used for PREDICT and by the\n",
    "      # `logging_hook`.\n",
    "      \"probabilities\": tf.nn.softmax(logits, name=\"softmax_tensor\")\n",
    "    }\n",
    "\n",
    "    if mode == tf.estimator.ModeKeys.PREDICT:\n",
    "        return tf.estimator.EstimatorSpec(mode=mode, predictions=predictions)\n",
    "\n",
    "    # Calculate Loss (for both TRAIN and EVAL modes)\n",
    "    loss = tf.losses.sparse_softmax_cross_entropy(labels=labels, logits=logits)\n",
    "\n",
    "    # Configure the Training Op (for TRAIN mode)\n",
    "    if mode == tf.estimator.ModeKeys.TRAIN:\n",
    "        optimizer = tf.train.GradientDescentOptimizer(learning_rate=0.001)\n",
    "        train_op = optimizer.minimize(\n",
    "            loss=loss,\n",
    "            global_step=tf.train.get_global_step())\n",
    "        return tf.estimator.EstimatorSpec(mode=mode, loss=loss, train_op=train_op)\n",
    "\n",
    "    # Add evaluation metrics (for EVAL mode)\n",
    "    eval_metric_ops = {\n",
    "      \"accuracy\": tf.metrics.accuracy(\n",
    "          labels=labels, predictions=predictions[\"classes\"])\n",
    "    }\n",
    "    return tf.estimator.EstimatorSpec(\n",
    "      mode=mode, loss=loss, eval_metric_ops=eval_metric_ops)"
   ]
  },
  {
   "cell_type": "markdown",
   "metadata": {
    "colab_type": "text",
    "id": "b7z8qC9FRSLB"
   },
   "source": [
    "The following sections (with headings corresponding to each code block above)\n",
    "dive deeper into the `tf.layers` code used to create each layer, as well as how\n",
    "to calculate loss, configure the training op, and generate predictions. If\n",
    "you're already experienced with CNNs and [TensorFlow `Estimator`s](../../guide/custom_estimators.md),\n",
    "and find the above code intuitive, you may want to skim these sections or just\n",
    "skip ahead to [\"Training and Evaluating the CNN MNIST Classifier\"](#train_eval_mnist)."
   ]
  },
  {
   "cell_type": "markdown",
   "metadata": {
    "colab_type": "text",
    "id": "sFBXEYRlRUWu"
   },
   "source": [
    "### Input Layer\n",
    "\n",
    "The methods in the `layers` module for creating convolutional and pooling layers\n",
    "for two-dimensional image data expect input tensors to have a shape of\n",
    "<code>[<em>batch_size</em>, <em>image_height</em>, <em>image_width</em>,\n",
    "<em>channels</em>]</code> by default. This behavior can be changed using the\n",
    "<code><em>data_format</em></code> parameter; defined as follows:\n",
    "\n",
    "*   `batch_size` —Size of the subset of examples to use when performing\n",
    "    gradient descent during training.\n",
    "*   `image_height` —Height of the example images.\n",
    "*   `image_width` —Width of the example images.\n",
    "*   `channels` —Number of color channels in the example images. For color\n",
    "    images, the number of channels is 3 (red, green, blue). For monochrome\n",
    "    images, there is just 1 channel (black).\n",
    "*   `data_format` —A string, one of `channels_last` (default) or `channels_first`.\n",
    "      `channels_last` corresponds to inputs with shape\n",
    "      `(batch, ..., channels)` while `channels_first` corresponds to\n",
    "      inputs with shape `(batch, channels, ...)`.\n",
    "\n",
    "Here, our MNIST dataset is composed of monochrome 28x28 pixel images, so the\n",
    "desired shape for our input layer is <code>[<em>batch_size</em>, 28, 28,\n",
    "1]</code>.\n",
    "\n",
    "To convert our input feature map (`features`) to this shape, we can perform the\n",
    "following `reshape` operation:\n",
    "\n",
    "```\n",
    "input_layer = tf.reshape(features[\"x\"], [-1, 28, 28, 1])\n",
    "```\n",
    "\n",
    "Note that we've indicated `-1` for batch size, which specifies that this\n",
    "dimension should be dynamically computed based on the number of input values in\n",
    "`features[\"x\"]`, holding the size of all other dimensions constant. This allows\n",
    "us to treat `batch_size` as a hyperparameter that we can tune. For example, if\n",
    "we feed examples into our model in batches of 5, `features[\"x\"]` will contain\n",
    "3,920 values (one value for each pixel in each image), and `input_layer` will\n",
    "have a shape of `[5, 28, 28, 1]`. Similarly, if we feed examples in batches of\n",
    "100, `features[\"x\"]` will contain 78,400 values, and `input_layer` will have a\n",
    "shape of `[100, 28, 28, 1]`."
   ]
  },
  {
   "cell_type": "markdown",
   "metadata": {
    "colab_type": "text",
    "id": "iU8Jr1_JRiKA"
   },
   "source": [
    "### Convolutional Layer #1\n",
    "\n",
    "In our first convolutional layer, we want to apply 32 5x5 filters to the input\n",
    "layer, with a ReLU activation function. We can use the `conv2d()` method in the\n",
    "`layers` module to create this layer as follows:\n",
    "\n",
    "```\n",
    "conv1 = tf.layers.conv2d(\n",
    "    inputs=input_layer,\n",
    "    filters=32,\n",
    "    kernel_size=[5, 5],\n",
    "    padding=\"same\",\n",
    "    activation=tf.nn.relu)\n",
    "```\n",
    "\n",
    "The `inputs` argument specifies our input tensor, which must have the shape\n",
    "<code>[<em>batch_size</em>, <em>image_height</em>, <em>image_width</em>,\n",
    "<em>channels</em>]</code>. Here, we're connecting our first convolutional layer\n",
    "to `input_layer`, which has the shape <code>[<em>batch_size</em>, 28, 28,\n",
    "1]</code>.\n",
    "\n",
    "Note: `conv2d()` will instead accept a shape of `[<em>batch_size</em>, <em>channels</em>, <em>image_height</em>, <em>image_width</em>]` when passed the argument `data_format=channels_first`.\n",
    "\n",
    "The `filters` argument specifies the number of filters to apply (here, 32), and\n",
    "`kernel_size` specifies the dimensions of the filters as `[<em>height</em>,\n",
    "<em>width</em>]</code> (here, <code>[5, 5]`).\n",
    "\n",
    "<p class=\"tip\"><b>TIP:</b> If filter height and width have the same value, you can instead specify a\n",
    "single integer for <code>kernel_size</code>—e.g., <code>kernel_size=5</code>.</p>\n",
    "\n",
    "The `padding` argument specifies one of two enumerated values\n",
    "(case-insensitive): `valid` (default value) or `same`. To specify that the\n",
    "output tensor should have the same height and width values as the input tensor,\n",
    "we set `padding=same` here, which instructs TensorFlow to add 0 values to the\n",
    "edges of the input tensor to preserve height and width of 28. (Without padding,\n",
    "a 5x5 convolution over a 28x28 tensor will produce a 24x24 tensor, as there are\n",
    "24x24 locations to extract a 5x5 tile from a 28x28 grid.)\n",
    "\n",
    "The `activation` argument specifies the activation function to apply to the\n",
    "output of the convolution. Here, we specify ReLU activation with\n",
    "`tf.nn.relu`.\n",
    "\n",
    "Our output tensor produced by `conv2d()` has a shape of\n",
    "<code>[<em>batch_size</em>, 28, 28, 32]</code>: the same height and width\n",
    "dimensions as the input, but now with 32 channels holding the output from each\n",
    "of the filters."
   ]
  },
  {
   "cell_type": "markdown",
   "metadata": {
    "colab_type": "text",
    "id": "8qzx1ZMFRqt_"
   },
   "source": [
    "### Pooling Layer #1\n",
    "\n",
    "Next, we connect our first pooling layer to the convolutional layer we just\n",
    "created. We can use the `max_pooling2d()` method in `layers` to construct a\n",
    "layer that performs max pooling with a 2x2 filter and stride of 2:\n",
    "\n",
    "```\n",
    "pool1 = tf.layers.max_pooling2d(inputs=conv1, pool_size=[2, 2], strides=2)\n",
    "```\n",
    "\n",
    "Again, `inputs` specifies the input tensor, with a shape of\n",
    "<code>[<em>batch_size</em>, <em>image_height</em>, <em>image_width</em>,\n",
    "<em>channels</em>]</code>. Here, our input tensor is `conv1`, the output from\n",
    "the first convolutional layer, which has a shape of <code>[<em>batch_size</em>,\n",
    "28, 28, 32]</code>.\n",
    "\n",
    "Note: As with <code>conv2d()</code>, <code>max_pooling2d()</code> will instead\n",
    "accept a shape of <code>[<em>batch_size</em>, <em>channels</em>,\n",
    "<em>image_height</em>, <em>image_width</em>]</code> when passed the argument\n",
    "<code>data_format=channels_first</code>.\n",
    "\n",
    "The `pool_size` argument specifies the size of the max pooling filter as\n",
    "<code>[<em>height</em>, <em>width</em>]</code> (here, `[2, 2]`). If both\n",
    "dimensions have the same value, you can instead specify a single integer (e.g.,\n",
    "`pool_size=2`).\n",
    "\n",
    "The `strides` argument specifies the size of the stride. Here, we set a stride\n",
    "of 2, which indicates that the subregions extracted by the filter should be\n",
    "separated by 2 pixels in both the height and width dimensions (for a 2x2 filter,\n",
    "this means that none of the regions extracted will overlap). If you want to set\n",
    "different stride values for height and width, you can instead specify a tuple or\n",
    "list (e.g., `stride=[3, 6]`).\n",
    "\n",
    "Our output tensor produced by `max_pooling2d()` (`pool1`) has a shape of\n",
    "<code>[<em>batch_size</em>, 14, 14, 32]</code>: the 2x2 filter reduces height and width by 50% each."
   ]
  },
  {
   "cell_type": "markdown",
   "metadata": {
    "colab_type": "text",
    "id": "xXej53NlRzFh"
   },
   "source": [
    "### Convolutional Layer #2 and Pooling Layer #2\n",
    "\n",
    "We can connect a second convolutional and pooling layer to our CNN using\n",
    "`conv2d()` and `max_pooling2d()` as before. For convolutional layer #2, we\n",
    "configure 64 5x5 filters with ReLU activation, and for pooling layer #2, we use\n",
    "the same specs as pooling layer #1 (a 2x2 max pooling filter with stride of 2):\n",
    "\n",
    "```\n",
    "conv2 = tf.layers.conv2d(\n",
    "    inputs=pool1,\n",
    "    filters=64,\n",
    "    kernel_size=[5, 5],\n",
    "    padding=\"same\",\n",
    "    activation=tf.nn.relu)\n",
    "\n",
    "pool2 = tf.layers.max_pooling2d(inputs=conv2, pool_size=[2, 2], strides=2)\n",
    "```\n",
    "\n",
    "Note that convolutional layer #2 takes the output tensor of our first pooling\n",
    "layer (`pool1`) as input, and produces the tensor `conv2` as output. `conv2`\n",
    "has a shape of <code>[<em>batch_size</em>, 14, 14, 64]</code>, the same height and width as `pool1` (due to `padding=\"same\"`), and 64 channels for the 64\n",
    "filters applied.\n",
    "\n",
    "Pooling layer #2 takes `conv2` as input, producing `pool2` as output. `pool2`\n",
    "has shape <code>[<em>batch_size</em>, 7, 7, 64]</code> (50% reduction of height and width from `conv2`)."
   ]
  },
  {
   "cell_type": "markdown",
   "metadata": {
    "colab_type": "text",
    "id": "jjmLqVP7R7z6"
   },
   "source": [
    "### Dense Layer\n",
    "\n",
    "Next, we want to add a dense layer (with 1,024 neurons and ReLU activation) to\n",
    "our CNN to perform classification on the features extracted by the\n",
    "convolution/pooling layers. Before we connect the layer, however, we'll flatten\n",
    "our feature map (`pool2`) to shape <code>[<em>batch_size</em>,\n",
    "<em>features</em>]</code>, so that our tensor has only two dimensions:\n",
    "\n",
    "```\n",
    "pool2_flat = tf.reshape(pool2, [-1, 7 * 7 * 64])\n",
    "```\n",
    "\n",
    "In the `reshape()` operation above, the `-1` signifies that the *`batch_size`*\n",
    "dimension will be dynamically calculated based on the number of examples in our\n",
    "input data. Each example has 7 (`pool2` height) * 7 (`pool2` width) * 64\n",
    "(`pool2` channels) features, so we want the `features` dimension to have a value\n",
    "of 7 * 7 * 64 (3136 in total). The output tensor, `pool2_flat`, has shape\n",
    "<code>[<em>batch_size</em>, 3136]</code>.\n",
    "\n",
    "Now, we can use the `dense()` method in `layers` to connect our dense layer as\n",
    "follows:\n",
    "\n",
    "```\n",
    "dense = tf.layers.dense(inputs=pool2_flat, units=1024, activation=tf.nn.relu)\n",
    "```\n",
    "\n",
    "The `inputs` argument specifies the input tensor: our flattened feature map,\n",
    "`pool2_flat`. The `units` argument specifies the number of neurons in the dense\n",
    "layer (1,024). The `activation` argument takes the activation function; again,\n",
    "we'll use `tf.nn.relu` to add ReLU activation.\n",
    "\n",
    "To help improve the results of our model, we also apply dropout regularization\n",
    "to our dense layer, using the `dropout` method in `layers`:\n",
    "\n",
    "```\n",
    "dropout = tf.layers.dropout(\n",
    "    inputs=dense, rate=0.4, training=mode == tf.estimator.ModeKeys.TRAIN)\n",
    "```\n",
    "\n",
    "Again, `inputs` specifies the input tensor, which is the output tensor from our\n",
    "dense layer (`dense`).\n",
    "\n",
    "The `rate` argument specifies the dropout rate; here, we use `0.4`, which means\n",
    "40% of the elements will be randomly dropped out during training.\n",
    "\n",
    "The `training` argument takes a boolean specifying whether or not the model is\n",
    "currently being run in training mode; dropout will only be performed if\n",
    "`training` is `True`. Here, we check if the `mode` passed to our model function\n",
    "`cnn_model_fn` is `TRAIN` mode.\n",
    "\n",
    "Our output tensor `dropout` has shape <code>[<em>batch_size</em>, 1024]</code>."
   ]
  },
  {
   "cell_type": "markdown",
   "metadata": {
    "colab_type": "text",
    "id": "rzUcwkCZSTF7"
   },
   "source": [
    "### Logits Layer\n",
    "\n",
    "The final layer in our neural network is the logits layer, which will return the\n",
    "raw values for our predictions. We create a dense layer with 10 neurons (one for\n",
    "each target class 0–9), with linear activation (the default):\n",
    "\n",
    "```\n",
    "logits = tf.layers.dense(inputs=dropout, units=10)\n",
    "```\n",
    "\n",
    "Our final output tensor of the CNN, `logits`, has shape `[batch_size, 10]`."
   ]
  },
  {
   "cell_type": "markdown",
   "metadata": {
    "colab_type": "text",
    "id": "y3uJ0V1KSakc"
   },
   "source": [
    "### Generate Predictions {#generate_predictions}\n",
    "\n",
    "The logits layer of our model returns our predictions as raw values in a\n",
    "<code>[<em>batch_size</em>, 10]</code>-dimensional tensor. Let's convert these\n",
    "raw values into two different formats that our model function can return:\n",
    "\n",
    "*   The **predicted class** for each example: a digit from 0–9.\n",
    "*   The **probabilities** for each possible target class for each example: the\n",
    "    probability that the example is a 0, is a 1, is a 2, etc.\n",
    "\n",
    "For a given example, our predicted class is the element in the corresponding row\n",
    "of the logits tensor with the highest raw value. We can find the index of this\n",
    "element using the `tf.argmax`\n",
    "function:\n",
    "\n",
    "```\n",
    "tf.argmax(input=logits, axis=1)\n",
    "```\n",
    "\n",
    "The `input` argument specifies the tensor from which to extract maximum\n",
    "values—here `logits`. The `axis` argument specifies the axis of the `input`\n",
    "tensor along which to find the greatest value. Here, we want to find the largest\n",
    "value along the dimension with index of 1, which corresponds to our predictions\n",
    "(recall that our logits tensor has shape <code>[<em>batch_size</em>,\n",
    "10]</code>).\n",
    "\n",
    "We can derive probabilities from our logits layer by applying softmax activation\n",
    "using `tf.nn.softmax`:\n",
    "\n",
    "```\n",
    "tf.nn.softmax(logits, name=\"softmax_tensor\")\n",
    "```\n",
    "\n",
    "Note: We use the `name` argument to explicitly name this operation `softmax_tensor`, so we can reference it later. (We'll set up logging for the softmax values in [\"Set Up a Logging Hook\"](#set-up-a-logging-hook)).\n",
    "\n",
    "We compile our predictions in a dict, and return an `EstimatorSpec` object:\n",
    "\n",
    "```\n",
    "predictions = {\n",
    "    \"classes\": tf.argmax(input=logits, axis=1),\n",
    "    \"probabilities\": tf.nn.softmax(logits, name=\"softmax_tensor\")\n",
    "}\n",
    "if mode == tf.estimator.ModeKeys.PREDICT:\n",
    "  return tf.estimator.EstimatorSpec(mode=mode, predictions=predictions)\n",
    "```"
   ]
  },
  {
   "cell_type": "markdown",
   "metadata": {
    "colab_type": "text",
    "id": "f2ks_tqSSucg"
   },
   "source": [
    "### Calculate Loss {#calculating-loss}\n",
    "\n",
    "For both training and evaluation, we need to define a\n",
    "[loss function](https://en.wikipedia.org/wiki/Loss_function)\n",
    "that measures how closely the model's predictions match the target classes. For\n",
    "multiclass classification problems like MNIST,\n",
    "[cross entropy](https://en.wikipedia.org/wiki/Cross_entropy) is typically used\n",
    "as the loss metric. The following code calculates cross entropy when the model\n",
    "runs in either `TRAIN` or `EVAL` mode:\n",
    "\n",
    "```\n",
    "loss = tf.losses.sparse_softmax_cross_entropy(labels=labels, logits=logits)\n",
    "```\n",
    "\n",
    "Let's take a closer look at what's happening above.\n",
    "\n",
    "Our `labels` tensor contains a list of prediction indices for our examples, e.g. `[1,\n",
    "9, ...]`. `logits` contains the linear outputs of our last layer.\n",
    "\n",
    "`tf.losses.sparse_softmax_cross_entropy`, calculates the softmax crossentropy\n",
    "(aka: categorical crossentropy, negative log-likelihood) from these two inputs\n",
    "in an efficient, numerically stable way."
   ]
  },
  {
   "cell_type": "markdown",
   "metadata": {
    "colab_type": "text",
    "id": "YgE7Ll3pS2FG"
   },
   "source": [
    "### Configure the Training Op\n",
    "\n",
    "In the previous section, we defined loss for our CNN as the softmax\n",
    "cross-entropy of the logits layer and our labels. Let's configure our model to\n",
    "optimize this loss value during training. We'll use a learning rate of 0.001 and\n",
    "[stochastic gradient descent](https://en.wikipedia.org/wiki/Stochastic_gradient_descent)\n",
    "as the optimization algorithm:\n",
    "\n",
    "```\n",
    "if mode == tf.estimator.ModeKeys.TRAIN:\n",
    "  optimizer = tf.train.GradientDescentOptimizer(learning_rate=0.001)\n",
    "  train_op = optimizer.minimize(\n",
    "      loss=loss,\n",
    "      global_step=tf.train.get_global_step())\n",
    "  return tf.estimator.EstimatorSpec(mode=mode, loss=loss, train_op=train_op)\n",
    "```"
   ]
  },
  {
   "cell_type": "markdown",
   "metadata": {
    "colab_type": "text",
    "id": "rEJPnXAzS6m9"
   },
   "source": [
    "Note: For a more in-depth look at configuring training ops for Estimator model functions, see [\"Defining the training op for the model\"](../../guide/custom_estimators.md#defining-the-training-op-for-the-model) in the [\"Creating Estimations in tf.estimator\"](../../guide/custom_estimators.md) tutorial."
   ]
  },
  {
   "cell_type": "markdown",
   "metadata": {
    "colab_type": "text",
    "id": "QQuGDWvHTAib"
   },
   "source": [
    "### Add evaluation metrics\n",
    "\n",
    "To add accuracy metric in our model, we define `eval_metric_ops` dict in EVAL\n",
    "mode as follows:\n",
    "\n",
    "```\n",
    "eval_metric_ops = {\n",
    "    \"accuracy\": tf.metrics.accuracy(\n",
    "        labels=labels, predictions=predictions[\"classes\"])\n",
    "}\n",
    "return tf.estimator.EstimatorSpec(\n",
    "    mode=mode, loss=loss, eval_metric_ops=eval_metric_ops)\n",
    "```"
   ]
  },
  {
   "cell_type": "markdown",
   "metadata": {
    "colab_type": "text",
    "id": "Y2Bwe-AdTRzX"
   },
   "source": [
    "<a id=\"train_eval_mnist\"></a>\n",
    "## Training and Evaluating the CNN MNIST Classifier\n",
    "\n",
    "We've coded our MNIST CNN model function; now we're ready to train and evaluate\n",
    "it."
   ]
  },
  {
   "cell_type": "markdown",
   "metadata": {
    "colab_type": "text",
    "id": "6EC9aOY2TTLU"
   },
   "source": [
    "### Load Training and Test Data\n",
    "\n",
    "First, let's load our training and test data with the following code:"
   ]
  },
  {
   "cell_type": "code",
   "execution_count": 6,
   "metadata": {
    "ExecuteTime": {
     "end_time": "2019-04-23T03:18:44.289916Z",
     "start_time": "2019-04-23T03:18:43.284121Z"
    },
    "colab": {},
    "colab_type": "code",
    "id": "ccobb0qETV-S"
   },
   "outputs": [],
   "source": [
    "# Load training and eval data\n",
    "((train_data, train_labels),\n",
    " (eval_data, eval_labels)) = tf.keras.datasets.mnist.load_data()\n",
    "\n",
    "train_data = train_data/np.float32(255)\n",
    "train_labels = train_labels.astype(np.int32)  # not required\n",
    "\n",
    "eval_data = eval_data/np.float32(255)\n",
    "eval_labels = eval_labels.astype(np.int32)  # not required"
   ]
  },
  {
   "cell_type": "markdown",
   "metadata": {
    "colab_type": "text",
    "id": "8l84-IxSTZnO"
   },
   "source": [
    "We store the training feature data (the raw pixel values for 55,000 images of\n",
    "hand-drawn digits) and training labels (the corresponding value from 0–9 for\n",
    "each image) as [numpy\n",
    "arrays](https://docs.scipy.org/doc/numpy/reference/generated/numpy.array.html)\n",
    "in `train_data` and `train_labels`, respectively. Similarly, we store the\n",
    "evaluation feature data (10,000 images) and evaluation labels in `eval_data`\n",
    "and `eval_labels`, respectively."
   ]
  },
  {
   "cell_type": "markdown",
   "metadata": {
    "colab_type": "text",
    "id": "S2_Isc7kTa45"
   },
   "source": [
    "### Create the Estimator {#create-the-estimator}\n",
    "\n",
    "Next, let's create an `Estimator` (a TensorFlow class for performing high-level\n",
    "model training, evaluation, and inference) for our model. Add the following code\n",
    "to `main()`:"
   ]
  },
  {
   "cell_type": "code",
   "execution_count": 7,
   "metadata": {
    "ExecuteTime": {
     "end_time": "2019-04-23T03:18:44.315553Z",
     "start_time": "2019-04-23T03:18:44.289916Z"
    },
    "colab": {},
    "colab_type": "code",
    "id": "yjC6HdwZTdg4"
   },
   "outputs": [
    {
     "name": "stdout",
     "output_type": "stream",
     "text": [
      "INFO:tensorflow:Using default config.\n",
      "INFO:tensorflow:Using config: {'_model_dir': '/tmp/mnist_convnet_model', '_tf_random_seed': None, '_save_summary_steps': 100, '_save_checkpoints_steps': None, '_save_checkpoints_secs': 600, '_session_config': allow_soft_placement: true\n",
      "graph_options {\n",
      "  rewrite_options {\n",
      "    meta_optimizer_iterations: ONE\n",
      "  }\n",
      "}\n",
      ", '_keep_checkpoint_max': 5, '_keep_checkpoint_every_n_hours': 10000, '_log_step_count_steps': 100, '_train_distribute': None, '_device_fn': None, '_protocol': None, '_eval_distribute': None, '_experimental_distribute': None, '_experimental_max_worker_delay_secs': None, '_session_creation_timeout_secs': 7200, '_service': None, '_cluster_spec': <tensorflow.python.training.server_lib.ClusterSpec object at 0x0000024AF1DB3A88>, '_task_type': 'worker', '_task_id': 0, '_global_id_in_cluster': 0, '_master': '', '_evaluation_master': '', '_is_chief': True, '_num_ps_replicas': 0, '_num_worker_replicas': 1}\n"
     ]
    }
   ],
   "source": [
    "# Create the Estimator\n",
    "mnist_classifier = tf.estimator.Estimator(\n",
    "    model_fn=cnn_model_fn, model_dir=\"/tmp/mnist_convnet_model\")"
   ]
  },
  {
   "cell_type": "markdown",
   "metadata": {
    "colab_type": "text",
    "id": "f78EBcg7TfTU"
   },
   "source": [
    "The `model_fn` argument specifies the model function to use for training,\n",
    "evaluation, and prediction; we pass it the `cnn_model_fn` we created in\n",
    "[\"Building the CNN MNIST Classifier.\"](#building-the-cnn-mnist-classifier) The\n",
    "`model_dir` argument specifies the directory where model data (checkpoints) will\n",
    "be saved (here, we specify the temp directory `/tmp/mnist_convnet_model`, but\n",
    "feel free to change to another directory of your choice).\n",
    "\n",
    "Note: For an in-depth walkthrough of the TensorFlow `Estimator` API, see the tutorial [Creating Estimators in tf.estimator](../../guide/custom_estimators.md)."
   ]
  },
  {
   "cell_type": "markdown",
   "metadata": {
    "colab_type": "text",
    "id": "_6ow7hVYTm3f"
   },
   "source": [
    "### Set Up a Logging Hook {#set_up_a_logging_hook}\n",
    "\n",
    "Since CNNs can take a while to train, let's set up some logging so we can track\n",
    "progress during training. We can use TensorFlow's `tf.train.SessionRunHook` to create a\n",
    "`tf.train.LoggingTensorHook`\n",
    "that will log the probability values from the softmax layer of our CNN. Add the\n",
    "following to `main()`:"
   ]
  },
  {
   "cell_type": "code",
   "execution_count": 8,
   "metadata": {
    "ExecuteTime": {
     "end_time": "2019-04-23T03:18:44.362424Z",
     "start_time": "2019-04-23T03:18:44.315553Z"
    },
    "colab": {},
    "colab_type": "code",
    "id": "S6T10kssTpdz"
   },
   "outputs": [],
   "source": [
    "# Set up logging for predictions\n",
    "tensors_to_log = {\"probabilities\": \"softmax_tensor\"}\n",
    "\n",
    "logging_hook = tf.train.LoggingTensorHook(\n",
    "    tensors=tensors_to_log, every_n_iter=50)"
   ]
  },
  {
   "cell_type": "markdown",
   "metadata": {
    "colab_type": "text",
    "id": "RZdtZ6JQTsmg"
   },
   "source": [
    "We store a dict of the tensors we want to log in `tensors_to_log`. Each key is a\n",
    "label of our choice that will be printed in the log output, and the\n",
    "corresponding label is the name of a `Tensor` in the TensorFlow graph. Here, our\n",
    "`probabilities` can be found in `softmax_tensor`, the name we gave our softmax\n",
    "operation earlier when we generated the probabilities in `cnn_model_fn`.\n",
    "\n",
    "Note: If you don't explicitly assign a name to an operation via the `name` argument, TensorFlow will assign a default name. A couple easy ways to discover the names applied to operations are to visualize your graph on [TensorBoard](../../guide/graph_viz.md)) or to enable the [TensorFlow Debugger (tfdbg)](../../guide/debugger.md).\n",
    "\n",
    "Next, we create the `LoggingTensorHook`, passing `tensors_to_log` to the\n",
    "`tensors` argument. We set `every_n_iter=50`, which specifies that probabilities\n",
    "should be logged after every 50 steps of training."
   ]
  },
  {
   "cell_type": "markdown",
   "metadata": {
    "colab_type": "text",
    "id": "brVs1dRMT0NM"
   },
   "source": [
    "### Train the Model\n",
    "\n",
    "Now we're ready to train our model, which we can do by creating `train_input_fn`\n",
    "and calling `train()` on `mnist_classifier`. In the `numpy_input_fn` call, we pass the training feature data and labels to\n",
    "`x` (as a dict) and `y`, respectively. We set a `batch_size` of `100` (which\n",
    "means that the model will train on minibatches of 100 examples at each step).\n",
    "`num_epochs=None` means that the model will train until the specified number of\n",
    "steps is reached. We also set `shuffle=True` to shuffle the training data. Then train the model a single step and log the output:"
   ]
  },
  {
   "cell_type": "code",
   "execution_count": 9,
   "metadata": {
    "ExecuteTime": {
     "end_time": "2019-04-23T03:18:52.777441Z",
     "start_time": "2019-04-23T03:18:44.362424Z"
    },
    "colab": {},
    "colab_type": "code",
    "id": "h-dewpleT2sk"
   },
   "outputs": [
    {
     "name": "stdout",
     "output_type": "stream",
     "text": [
      "WARNING:tensorflow:From D:\\anaconda3\\envs\\tensorflow1\\lib\\site-packages\\tensorflow_core\\python\\training\\training_util.py:236: Variable.initialized_value (from tensorflow.python.ops.variables) is deprecated and will be removed in a future version.\n",
      "Instructions for updating:\n",
      "Use Variable.read_value. Variables in 2.X are initialized automatically both in eager and graph (inside tf.defun) contexts.\n",
      "WARNING:tensorflow:From D:\\anaconda3\\envs\\tensorflow1\\lib\\site-packages\\tensorflow_estimator\\python\\estimator\\inputs\\queues\\feeding_queue_runner.py:62: QueueRunner.__init__ (from tensorflow.python.training.queue_runner_impl) is deprecated and will be removed in a future version.\n",
      "Instructions for updating:\n",
      "To construct input pipelines, use the `tf.data` module.\n",
      "WARNING:tensorflow:From D:\\anaconda3\\envs\\tensorflow1\\lib\\site-packages\\tensorflow_estimator\\python\\estimator\\inputs\\queues\\feeding_functions.py:500: add_queue_runner (from tensorflow.python.training.queue_runner_impl) is deprecated and will be removed in a future version.\n",
      "Instructions for updating:\n",
      "To construct input pipelines, use the `tf.data` module.\n",
      "INFO:tensorflow:Calling model_fn.\n",
      "WARNING:tensorflow:From <ipython-input-5-89a68a33839f>:13: conv2d (from tensorflow.python.layers.convolutional) is deprecated and will be removed in a future version.\n",
      "Instructions for updating:\n",
      "Use `tf.keras.layers.Conv2D` instead.\n",
      "WARNING:tensorflow:From D:\\anaconda3\\envs\\tensorflow1\\lib\\site-packages\\tensorflow_core\\python\\layers\\convolutional.py:424: Layer.apply (from tensorflow.python.keras.engine.base_layer) is deprecated and will be removed in a future version.\n",
      "Instructions for updating:\n",
      "Please use `layer.__call__` method instead.\n",
      "WARNING:tensorflow:From <ipython-input-5-89a68a33839f>:17: max_pooling2d (from tensorflow.python.layers.pooling) is deprecated and will be removed in a future version.\n",
      "Instructions for updating:\n",
      "Use keras.layers.MaxPooling2D instead.\n",
      "WARNING:tensorflow:From <ipython-input-5-89a68a33839f>:30: dense (from tensorflow.python.layers.core) is deprecated and will be removed in a future version.\n",
      "Instructions for updating:\n",
      "Use keras.layers.Dense instead.\n",
      "WARNING:tensorflow:From <ipython-input-5-89a68a33839f>:32: dropout (from tensorflow.python.layers.core) is deprecated and will be removed in a future version.\n",
      "Instructions for updating:\n",
      "Use keras.layers.dropout instead.\n",
      "WARNING:tensorflow:From D:\\anaconda3\\envs\\tensorflow1\\lib\\site-packages\\tensorflow_core\\python\\ops\\losses\\losses_impl.py:121: where (from tensorflow.python.ops.array_ops) is deprecated and will be removed in a future version.\n",
      "Instructions for updating:\n",
      "Use tf.where in 2.0, which has the same broadcast rule as np.where\n",
      "INFO:tensorflow:Done calling model_fn.\n",
      "INFO:tensorflow:Create CheckpointSaverHook.\n",
      "INFO:tensorflow:Graph was finalized.\n",
      "INFO:tensorflow:Restoring parameters from /tmp/mnist_convnet_model\\model.ckpt-1001\n",
      "WARNING:tensorflow:From D:\\anaconda3\\envs\\tensorflow1\\lib\\site-packages\\tensorflow_core\\python\\training\\saver.py:1069: get_checkpoint_mtimes (from tensorflow.python.training.checkpoint_management) is deprecated and will be removed in a future version.\n",
      "Instructions for updating:\n",
      "Use standard file utilities to get mtimes.\n",
      "INFO:tensorflow:Running local_init_op.\n",
      "INFO:tensorflow:Done running local_init_op.\n",
      "WARNING:tensorflow:From D:\\anaconda3\\envs\\tensorflow1\\lib\\site-packages\\tensorflow_core\\python\\training\\monitored_session.py:882: start_queue_runners (from tensorflow.python.training.queue_runner_impl) is deprecated and will be removed in a future version.\n",
      "Instructions for updating:\n",
      "To construct input pipelines, use the `tf.data` module.\n",
      "INFO:tensorflow:Saving checkpoints for 1001 into /tmp/mnist_convnet_model\\model.ckpt.\n",
      "INFO:tensorflow:probabilities = [[0.0818638  0.07184356 0.08437537 0.09722714 0.11490879 0.09626251\n",
      "  0.10985301 0.12466581 0.10781115 0.11118884]\n",
      " [0.10784896 0.09121919 0.09735753 0.0832858  0.12409492 0.0936798\n",
      "  0.09434259 0.08597139 0.10670556 0.1154943 ]\n",
      " [0.07079308 0.12853856 0.09987314 0.11203831 0.08028664 0.09028068\n",
      "  0.11393331 0.11142782 0.10334187 0.08948658]\n",
      " [0.20240293 0.07149843 0.09472335 0.08676098 0.07468183 0.0876818\n",
      "  0.12216261 0.07993497 0.10911246 0.07104056]\n",
      " [0.12209931 0.06826808 0.11751785 0.1517452  0.08639084 0.11810507\n",
      "  0.0863993  0.06448088 0.10234107 0.08265244]\n",
      " [0.09469394 0.0898886  0.09365916 0.09279699 0.11689725 0.07994203\n",
      "  0.09482959 0.10507592 0.11302524 0.11919123]\n",
      " [0.083924   0.0959946  0.10443667 0.12408084 0.09183127 0.10116661\n",
      "  0.09890234 0.09008365 0.10673798 0.10284202]\n",
      " [0.09342045 0.08068999 0.10005047 0.13557039 0.1049236  0.07756542\n",
      "  0.12808381 0.0795204  0.10576171 0.09441376]\n",
      " [0.1261305  0.08569485 0.10528851 0.08648983 0.11231328 0.09153295\n",
      "  0.14813772 0.07973635 0.08443852 0.08023747]\n",
      " [0.07810847 0.05620769 0.08778808 0.0977088  0.15351994 0.08263781\n",
      "  0.11130467 0.11692939 0.10698044 0.10881472]\n",
      " [0.1020912  0.0965843  0.11029183 0.09765423 0.10343766 0.08252104\n",
      "  0.14929144 0.07034825 0.09988767 0.08789231]\n",
      " [0.09893949 0.1417777  0.11035071 0.11958233 0.09426043 0.08302758\n",
      "  0.09976245 0.07371628 0.08935529 0.08922769]\n",
      " [0.1080728  0.07688934 0.08268858 0.07260891 0.12846547 0.09078903\n",
      "  0.11400525 0.11580803 0.10095639 0.1097163 ]\n",
      " [0.08449078 0.1445439  0.10482769 0.10879593 0.10658894 0.08443119\n",
      "  0.08730128 0.08179498 0.11687185 0.08035349]\n",
      " [0.11411711 0.08584121 0.11557026 0.13133144 0.08755092 0.10014412\n",
      "  0.08238932 0.10020993 0.10742722 0.07541852]\n",
      " [0.1229137  0.09980743 0.10251196 0.10959427 0.07788868 0.08429866\n",
      "  0.1101163  0.07355229 0.13289759 0.08641904]\n",
      " [0.10222644 0.06582277 0.09637045 0.09572587 0.13957697 0.09691234\n",
      "  0.09424325 0.10342594 0.11237972 0.09331634]\n",
      " [0.08706005 0.11583402 0.10109583 0.10253599 0.08929849 0.09941263\n",
      "  0.10002355 0.09296038 0.11143873 0.10034035]\n",
      " [0.09714972 0.07317247 0.10382554 0.11585194 0.10426319 0.09845877\n",
      "  0.09048866 0.11676288 0.10970761 0.09031915]\n",
      " [0.09561025 0.10921277 0.10064435 0.13419123 0.07925874 0.08941558\n",
      "  0.1152056  0.08683107 0.10812157 0.0815089 ]\n",
      " [0.1107116  0.08525033 0.09974484 0.10509667 0.08418428 0.11621293\n",
      "  0.1052944  0.08458368 0.1094702  0.0994511 ]\n",
      " [0.10233004 0.09544858 0.08625811 0.14177427 0.10494154 0.08207785\n",
      "  0.07097866 0.11120755 0.11240913 0.09257422]\n",
      " [0.11775872 0.07474721 0.10277517 0.10546655 0.10349619 0.08313026\n",
      "  0.1512191  0.0736284  0.10049077 0.08728767]\n",
      " [0.07873187 0.11302943 0.10354709 0.10376567 0.09183081 0.09734649\n",
      "  0.09423297 0.11568162 0.10198588 0.09984816]\n",
      " [0.15370776 0.07629987 0.1076287  0.08086447 0.11723527 0.09868262\n",
      "  0.14369552 0.07042187 0.07947788 0.07198606]\n",
      " [0.10709257 0.07639989 0.0950318  0.11200996 0.12380439 0.08985893\n",
      "  0.11804214 0.0888631  0.10929554 0.07960171]\n",
      " [0.08225466 0.0719173  0.08744612 0.09394719 0.10538652 0.08445584\n",
      "  0.11224502 0.11045295 0.11976147 0.132133  ]\n",
      " [0.12946548 0.0862365  0.0917577  0.10469995 0.10388831 0.10032098\n",
      "  0.0855452  0.10720573 0.10657229 0.08430783]\n",
      " [0.10393183 0.0666723  0.08997122 0.09148148 0.15110904 0.08899204\n",
      "  0.11469889 0.09292243 0.09881974 0.10140102]\n",
      " [0.07652306 0.07793982 0.08790036 0.11724545 0.11133537 0.09869848\n",
      "  0.09313226 0.10960556 0.10564525 0.12197448]\n",
      " [0.11968084 0.09607907 0.12658422 0.10919783 0.09994204 0.09138552\n",
      "  0.09727762 0.07390402 0.11986691 0.06608202]\n",
      " [0.09700661 0.10590342 0.12550072 0.10903266 0.10190646 0.08858163\n",
      "  0.08755466 0.09189501 0.10410137 0.08851746]\n",
      " [0.08087749 0.11573557 0.08642837 0.09469751 0.091732   0.1063311\n",
      "  0.1089798  0.09472703 0.12126622 0.09922493]\n",
      " [0.09437144 0.10059223 0.10937627 0.11153004 0.0895723  0.09306374\n",
      "  0.13154015 0.07788634 0.09948204 0.0925855 ]\n",
      " [0.09699304 0.09906685 0.10426813 0.10586508 0.0782589  0.10639999\n",
      "  0.10774788 0.08160757 0.11798818 0.10180441]\n",
      " [0.10028461 0.07960164 0.07490005 0.12530054 0.08082923 0.08988184\n",
      "  0.09099014 0.12840322 0.12120976 0.10859895]\n",
      " [0.1694651  0.06292311 0.10308811 0.1068972  0.08676706 0.1053417\n",
      "  0.09883556 0.05630774 0.11333192 0.09704252]\n",
      " [0.08612681 0.06752846 0.08964826 0.10163673 0.12484128 0.0881136\n",
      "  0.10072707 0.1187069  0.10758482 0.11508621]\n",
      " [0.08869743 0.12673482 0.09313609 0.10066148 0.09838844 0.0960207\n",
      "  0.1017497  0.08769127 0.10549379 0.10142621]\n",
      " [0.09571456 0.06435453 0.10808877 0.10998811 0.12061504 0.09633575\n",
      "  0.13040459 0.07936337 0.09487224 0.10026293]\n",
      " [0.10998666 0.08244591 0.11659458 0.11409962 0.08375796 0.09624518\n",
      "  0.0819723  0.091892   0.12365875 0.09934693]\n",
      " [0.10150433 0.0697532  0.11338987 0.10719059 0.10852047 0.09253272\n",
      "  0.14357065 0.06183295 0.10172231 0.09998291]\n",
      " [0.14602113 0.06265651 0.11897579 0.0962915  0.10919353 0.06632778\n",
      "  0.08962425 0.08264869 0.11585343 0.11240736]\n",
      " [0.12435801 0.06174882 0.11431994 0.08849616 0.0977836  0.0843816\n",
      "  0.11345261 0.11491504 0.10587045 0.09467385]\n",
      " [0.14428094 0.07796317 0.09109126 0.11134133 0.08743224 0.10500437\n",
      "  0.08483915 0.09228221 0.1280738  0.07769157]\n",
      " [0.15322043 0.07055271 0.10142952 0.08865494 0.09335584 0.07994466\n",
      "  0.12390538 0.07645482 0.1138925  0.09858923]\n",
      " [0.10748109 0.10165093 0.1154769  0.11323295 0.08516248 0.089236\n",
      "  0.1057995  0.08732615 0.10240862 0.09222537]\n",
      " [0.06781915 0.07825828 0.11386042 0.14500275 0.10211199 0.08383909\n",
      "  0.08839249 0.10744824 0.11451361 0.09875394]\n",
      " [0.09790763 0.09929778 0.09189647 0.11421695 0.09381197 0.09533183\n",
      "  0.08955033 0.09417361 0.13152303 0.09229035]\n",
      " [0.10919958 0.09711922 0.0937051  0.13568202 0.09082584 0.08458966\n",
      "  0.09305248 0.08531385 0.11916912 0.09134313]\n",
      " [0.10135858 0.09469236 0.11931086 0.15772296 0.07695185 0.10576845\n",
      "  0.09206423 0.06039098 0.11223949 0.07950034]\n",
      " [0.14811131 0.08932509 0.12605658 0.11402847 0.07297321 0.10139001\n",
      "  0.09720913 0.06898326 0.11390992 0.06801304]\n",
      " [0.07103901 0.0799443  0.10391432 0.11175782 0.11807198 0.07743238\n",
      "  0.10485909 0.10168497 0.09861966 0.13267651]\n",
      " [0.10250146 0.08336399 0.09638637 0.10488141 0.0983646  0.08958619\n",
      "  0.08935683 0.11931878 0.10000431 0.11623609]\n",
      " [0.12623118 0.07282107 0.0922274  0.14134063 0.07650509 0.10661573\n",
      "  0.10708424 0.087074   0.10483642 0.0852642 ]\n",
      " [0.09953004 0.11097784 0.120988   0.09768584 0.09447196 0.09524906\n",
      "  0.09905814 0.08317398 0.10025789 0.09860717]\n",
      " [0.10410903 0.05511126 0.08549962 0.10879999 0.12257303 0.08092783\n",
      "  0.09421173 0.07999712 0.11627296 0.15249747]\n",
      " [0.12168656 0.07891223 0.10239711 0.0907082  0.11997291 0.09930218\n",
      "  0.07940829 0.10978887 0.10929397 0.08852964]\n",
      " [0.12600534 0.07986379 0.1152204  0.09595571 0.081347   0.09703561\n",
      "  0.1030741  0.08432415 0.12471371 0.09246027]\n",
      " [0.09293085 0.09350944 0.11620226 0.083138   0.09992362 0.10175069\n",
      "  0.07130975 0.1373173  0.10637794 0.09754013]\n",
      " [0.0970581  0.07314518 0.08973271 0.12563592 0.12304619 0.07917418\n",
      "  0.11420094 0.08764599 0.10533193 0.10502885]\n",
      " [0.11433964 0.08436041 0.09786713 0.14373562 0.0876724  0.08807807\n",
      "  0.07893676 0.08836214 0.13692153 0.07972639]\n",
      " [0.09884352 0.1043002  0.09926146 0.11480515 0.0848371  0.10235753\n",
      "  0.10031374 0.08873349 0.11159881 0.09494905]\n",
      " [0.12437682 0.08679058 0.12955266 0.08677251 0.10057761 0.10439624\n",
      "  0.09152831 0.08575752 0.11436933 0.07587852]\n",
      " [0.09123242 0.12683062 0.10304415 0.09384023 0.09364749 0.09356235\n",
      "  0.09733333 0.10620937 0.09968775 0.09461231]\n",
      " [0.09416674 0.10908128 0.09754919 0.11313576 0.10085756 0.09056538\n",
      "  0.09421605 0.11060795 0.1025731  0.08724693]\n",
      " [0.11452277 0.10136541 0.1038144  0.14379656 0.09759974 0.08413952\n",
      "  0.0981572  0.07853917 0.10140634 0.07665894]\n",
      " [0.10170609 0.12107816 0.09688527 0.10587422 0.09806077 0.08622586\n",
      "  0.10321568 0.09357169 0.11011574 0.08326648]\n",
      " [0.1088153  0.06902834 0.1141253  0.10006876 0.10651322 0.09463269\n",
      "  0.14852136 0.07637173 0.10228384 0.07963949]\n",
      " [0.11611718 0.08288414 0.11111004 0.12104791 0.08705415 0.09997075\n",
      "  0.0790061  0.07845507 0.13987388 0.08448074]\n",
      " [0.11012655 0.09512977 0.0907767  0.0931     0.09112535 0.0986687\n",
      "  0.09569958 0.09685941 0.13031754 0.09819631]\n",
      " [0.13171472 0.08011498 0.12596174 0.09493741 0.09276347 0.097487\n",
      "  0.10557052 0.07592177 0.10755301 0.0879754 ]\n",
      " [0.08754391 0.10753722 0.09914313 0.08795186 0.08200973 0.09258965\n",
      "  0.07918206 0.14779173 0.10271877 0.11353197]\n",
      " [0.08897663 0.1477978  0.10786194 0.10175123 0.09150703 0.09367757\n",
      "  0.08741251 0.08192573 0.11258718 0.08650247]\n",
      " [0.12772307 0.10800513 0.11966391 0.11655951 0.09359705 0.08349717\n",
      "  0.10039416 0.07361019 0.09072815 0.08622168]\n",
      " [0.10215686 0.0833028  0.10943212 0.1465525  0.0861174  0.08030389\n",
      "  0.10842594 0.07935038 0.13097444 0.07338356]\n",
      " [0.09500838 0.09369392 0.12371625 0.10277956 0.09612317 0.09392242\n",
      "  0.12319191 0.06803644 0.1158228  0.08770514]\n",
      " [0.12051523 0.09959674 0.13086995 0.12506314 0.07982011 0.08691332\n",
      "  0.10348224 0.08864734 0.09373729 0.07135468]\n",
      " [0.08015945 0.0846943  0.08725977 0.11111613 0.12010649 0.08499435\n",
      "  0.10396777 0.09891175 0.11698271 0.11180732]\n",
      " [0.09363362 0.13812225 0.09814085 0.10867717 0.08662269 0.09832076\n",
      "  0.10220879 0.07684898 0.10134173 0.09608317]\n",
      " [0.09740903 0.0758969  0.08735695 0.10990748 0.11077844 0.09683912\n",
      "  0.09453516 0.11931648 0.10992374 0.09803674]\n",
      " [0.10912783 0.08397062 0.09992096 0.12389233 0.09503709 0.11809364\n",
      "  0.10923861 0.06987461 0.09903795 0.09180629]\n",
      " [0.09305944 0.0959222  0.08995877 0.12429633 0.094863   0.08182324\n",
      "  0.09613774 0.10762523 0.11340468 0.10290931]\n",
      " [0.07553349 0.10716495 0.08828976 0.11853958 0.09897093 0.08369949\n",
      "  0.08935777 0.10477357 0.11520115 0.11846926]\n",
      " [0.1247152  0.11704978 0.1076305  0.0945853  0.10253352 0.09383085\n",
      "  0.09427932 0.06604308 0.1184928  0.08083964]\n",
      " [0.10063609 0.07711337 0.08498741 0.11622827 0.10765495 0.09029163\n",
      "  0.08407208 0.1308677  0.11029571 0.09785289]\n",
      " [0.09029722 0.08468549 0.10644591 0.0931863  0.12306084 0.09170403\n",
      "  0.13776083 0.08887091 0.0914024  0.09258612]\n",
      " [0.08874496 0.08151102 0.07977649 0.10439003 0.15684332 0.08260625\n",
      "  0.10580998 0.10734487 0.09111694 0.10185628]\n",
      " [0.17455763 0.05834585 0.14681445 0.12431768 0.07838152 0.07249314\n",
      "  0.10379425 0.07449635 0.09939361 0.06740558]\n",
      " [0.11329586 0.07523534 0.1187766  0.11299145 0.09613781 0.10340893\n",
      "  0.11211183 0.07848547 0.11187538 0.07768133]\n",
      " [0.11547308 0.07856835 0.08495968 0.09664006 0.11185678 0.07750137\n",
      "  0.09876122 0.11223365 0.10771133 0.11629456]\n",
      " [0.09200907 0.10879382 0.10781419 0.10712973 0.09799061 0.08796768\n",
      "  0.12961935 0.07007591 0.10900507 0.08959457]\n",
      " [0.0926422  0.08313678 0.11411613 0.16035803 0.08402394 0.08449867\n",
      "  0.09413639 0.09613201 0.10804519 0.08291063]\n",
      " [0.08860733 0.1294176  0.09300153 0.10481644 0.10045186 0.0826285\n",
      "  0.09750022 0.09965234 0.10054914 0.10337508]\n",
      " [0.09442689 0.09472024 0.08632262 0.10227738 0.12450337 0.07356195\n",
      "  0.12742788 0.08450823 0.09694263 0.11530882]\n",
      " [0.18890263 0.06563845 0.10840622 0.12593621 0.08411406 0.08731674\n",
      "  0.09189604 0.07567068 0.09428778 0.07783133]\n",
      " [0.14507303 0.07928924 0.12058073 0.11243834 0.10336503 0.09198038\n",
      "  0.10658184 0.06714257 0.09468741 0.07886144]\n",
      " [0.07021242 0.08482776 0.10203549 0.11924848 0.09365545 0.09901753\n",
      "  0.12812765 0.09236331 0.10939325 0.10111871]\n",
      " [0.0988904  0.05752322 0.08117591 0.14535446 0.12519763 0.07348816\n",
      "  0.09206838 0.1012414  0.12901585 0.09604457]\n",
      " [0.08208781 0.0757209  0.09144612 0.1150976  0.13804401 0.0871228\n",
      "  0.09477464 0.10104404 0.09637357 0.11828852]]\n"
     ]
    },
    {
     "name": "stdout",
     "output_type": "stream",
     "text": [
      "INFO:tensorflow:loss = 2.0795176, step = 1002\n",
      "INFO:tensorflow:Saving checkpoints for 1002 into /tmp/mnist_convnet_model\\model.ckpt.\n",
      "INFO:tensorflow:Loss for final step: 2.0795176.\n"
     ]
    },
    {
     "data": {
      "text/plain": [
       "<tensorflow_estimator.python.estimator.estimator.Estimator at 0x24af1dc7108>"
      ]
     },
     "execution_count": 9,
     "metadata": {},
     "output_type": "execute_result"
    }
   ],
   "source": [
    "# Train the model\n",
    "train_input_fn = tf.estimator.inputs.numpy_input_fn(\n",
    "    x={\"x\": train_data},\n",
    "    y=train_labels,\n",
    "    batch_size=100,\n",
    "    num_epochs=None,\n",
    "    shuffle=True)\n",
    "\n",
    "# train one step and display the probabilties\n",
    "mnist_classifier.train(\n",
    "    input_fn=train_input_fn,\n",
    "    steps=1,\n",
    "    hooks=[logging_hook])"
   ]
  },
  {
   "cell_type": "markdown",
   "metadata": {
    "colab_type": "text",
    "id": "gyNSE3e-14Lq"
   },
   "source": [
    "Now—without logging each step—set `steps=1000` to train the model longer, but in a reasonable time to run this example. Training CNNs is computationally intensive. To increase the accuracy of your model, increase the number of `steps` passed to `train()`, like 20,000 steps."
   ]
  },
  {
   "cell_type": "code",
   "execution_count": 10,
   "metadata": {
    "ExecuteTime": {
     "end_time": "2019-04-23T03:23:20.527833Z",
     "start_time": "2019-04-23T03:18:52.777441Z"
    },
    "colab": {},
    "colab_type": "code",
    "id": "cri6zqcf2IXY"
   },
   "outputs": [
    {
     "name": "stdout",
     "output_type": "stream",
     "text": [
      "INFO:tensorflow:Calling model_fn.\n",
      "INFO:tensorflow:Done calling model_fn.\n",
      "INFO:tensorflow:Create CheckpointSaverHook.\n",
      "INFO:tensorflow:Graph was finalized.\n",
      "INFO:tensorflow:Restoring parameters from /tmp/mnist_convnet_model\\model.ckpt-1002\n",
      "INFO:tensorflow:Running local_init_op.\n",
      "INFO:tensorflow:Done running local_init_op.\n",
      "INFO:tensorflow:Saving checkpoints for 1002 into /tmp/mnist_convnet_model\\model.ckpt.\n",
      "INFO:tensorflow:loss = 2.0868218, step = 1003\n",
      "INFO:tensorflow:global_step/sec: 3.19675\n",
      "INFO:tensorflow:loss = 2.0582094, step = 1103 (31.313 sec)\n",
      "INFO:tensorflow:global_step/sec: 2.74301\n",
      "INFO:tensorflow:loss = 1.9797602, step = 1203 (36.430 sec)\n",
      "INFO:tensorflow:global_step/sec: 2.61503\n",
      "INFO:tensorflow:loss = 1.8139502, step = 1303 (38.248 sec)\n",
      "INFO:tensorflow:global_step/sec: 2.84335\n",
      "INFO:tensorflow:loss = 1.747157, step = 1403 (35.162 sec)\n",
      "INFO:tensorflow:global_step/sec: 2.19471\n",
      "INFO:tensorflow:loss = 1.6811883, step = 1503 (45.567 sec)\n",
      "INFO:tensorflow:global_step/sec: 3.05692\n",
      "INFO:tensorflow:loss = 1.4012989, step = 1603 (32.709 sec)\n",
      "INFO:tensorflow:global_step/sec: 2.37726\n",
      "INFO:tensorflow:loss = 1.3113083, step = 1703 (42.076 sec)\n",
      "INFO:tensorflow:global_step/sec: 3.03854\n",
      "INFO:tensorflow:loss = 1.0399485, step = 1803 (32.901 sec)\n",
      "INFO:tensorflow:global_step/sec: 2.43724\n",
      "INFO:tensorflow:loss = 0.9712974, step = 1903 (41.029 sec)\n",
      "INFO:tensorflow:Saving checkpoints for 2002 into /tmp/mnist_convnet_model\\model.ckpt.\n",
      "INFO:tensorflow:Loss for final step: 0.92472184.\n"
     ]
    },
    {
     "data": {
      "text/plain": [
       "<tensorflow_estimator.python.estimator.estimator.Estimator at 0x24af1dc7108>"
      ]
     },
     "execution_count": 10,
     "metadata": {},
     "output_type": "execute_result"
    }
   ],
   "source": [
    "mnist_classifier.train(input_fn=train_input_fn, steps=1000)"
   ]
  },
  {
   "cell_type": "markdown",
   "metadata": {
    "colab_type": "text",
    "id": "4bQdkLMeUE5U"
   },
   "source": [
    "### Evaluate the Model\n",
    "\n",
    "Once training is complete, we want to evaluate our model to determine its\n",
    "accuracy on the MNIST test set. We call the `evaluate` method, which evaluates\n",
    "the metrics we specified in `eval_metric_ops` argument in the `model_fn`.\n",
    "Add the following to `main()`:"
   ]
  },
  {
   "cell_type": "code",
   "execution_count": 11,
   "metadata": {
    "ExecuteTime": {
     "end_time": "2019-04-23T03:23:31.237885Z",
     "start_time": "2019-04-23T03:23:20.527833Z"
    },
    "colab": {},
    "colab_type": "code",
    "id": "I0RGiqd0UF0N"
   },
   "outputs": [
    {
     "name": "stdout",
     "output_type": "stream",
     "text": [
      "INFO:tensorflow:Calling model_fn.\n",
      "INFO:tensorflow:Done calling model_fn.\n",
      "INFO:tensorflow:Starting evaluation at 2020-04-28T09:32:53Z\n",
      "INFO:tensorflow:Graph was finalized.\n",
      "INFO:tensorflow:Restoring parameters from /tmp/mnist_convnet_model\\model.ckpt-2002\n",
      "INFO:tensorflow:Running local_init_op.\n",
      "INFO:tensorflow:Done running local_init_op.\n",
      "INFO:tensorflow:Finished evaluation at 2020-04-28-09:33:03\n",
      "INFO:tensorflow:Saving dict for global step 2002: accuracy = 0.8312, global_step = 2002, loss = 0.78566206\n",
      "INFO:tensorflow:Saving 'checkpoint_path' summary for global step 2002: /tmp/mnist_convnet_model\\model.ckpt-2002\n",
      "{'accuracy': 0.8312, 'loss': 0.78566206, 'global_step': 2002}\n"
     ]
    }
   ],
   "source": [
    "eval_input_fn = tf.estimator.inputs.numpy_input_fn(\n",
    "    x={\"x\": eval_data},\n",
    "    y=eval_labels,\n",
    "    num_epochs=1,\n",
    "    shuffle=False)\n",
    "\n",
    "eval_results = mnist_classifier.evaluate(input_fn=eval_input_fn)\n",
    "print(eval_results)"
   ]
  },
  {
   "cell_type": "markdown",
   "metadata": {
    "colab_type": "text",
    "id": "JIBVID6dUIXT"
   },
   "source": [
    "To create `eval_input_fn`, we set `num_epochs=1`, so that the model evaluates\n",
    "the metrics over one epoch of data and returns the result. We also set\n",
    "`shuffle=False` to iterate through the data sequentially."
   ]
  },
  {
   "cell_type": "markdown",
   "metadata": {},
   "source": [
    "### Prediction with Estimators"
   ]
  },
  {
   "cell_type": "code",
   "execution_count": 20,
   "metadata": {},
   "outputs": [
    {
     "name": "stdout",
     "output_type": "stream",
     "text": [
      "INFO:tensorflow:Calling model_fn.\n",
      "INFO:tensorflow:Done calling model_fn.\n",
      "INFO:tensorflow:Graph was finalized.\n",
      "INFO:tensorflow:Restoring parameters from /tmp/mnist_convnet_model\\model.ckpt-2002\n",
      "INFO:tensorflow:Running local_init_op.\n",
      "INFO:tensorflow:Done running local_init_op.\n",
      "0 {'classes': 7, 'probabilities': array([0.0090021 , 0.00625639, 0.00466017, 0.03094737, 0.00687079,\n",
      "       0.01508757, 0.00114238, 0.8660112 , 0.02573148, 0.03429057],\n",
      "      dtype=float32)}\n",
      "1 {'classes': 2, 'probabilities': array([0.06480682, 0.05087208, 0.49875006, 0.1035038 , 0.00215328,\n",
      "       0.07244013, 0.1131341 , 0.00084979, 0.09060655, 0.00288339],\n",
      "      dtype=float32)}\n",
      "2 {'classes': 1, 'probabilities': array([0.00651908, 0.73096347, 0.0402517 , 0.03196359, 0.01739693,\n",
      "       0.02554573, 0.03023832, 0.02706137, 0.06307486, 0.02698492],\n",
      "      dtype=float32)}\n",
      "3 {'classes': 0, 'probabilities': array([0.6806331 , 0.00107778, 0.05395119, 0.04588259, 0.00564288,\n",
      "       0.07385911, 0.06414224, 0.01594552, 0.04597668, 0.01288892],\n",
      "      dtype=float32)}\n",
      "4 {'classes': 4, 'probabilities': array([0.02140702, 0.00160595, 0.04312786, 0.01898477, 0.54445875,\n",
      "       0.06069599, 0.07390117, 0.04043268, 0.03508776, 0.16029805],\n",
      "      dtype=float32)}\n",
      "5 {'classes': 1, 'probabilities': array([0.00214029, 0.82938474, 0.02131886, 0.02204853, 0.00894661,\n",
      "       0.01358533, 0.0113199 , 0.02302252, 0.04363815, 0.02459523],\n",
      "      dtype=float32)}\n",
      "6 {'classes': 4, 'probabilities': array([0.00457249, 0.00466219, 0.00487236, 0.02169585, 0.33625188,\n",
      "       0.07657845, 0.01612095, 0.19171461, 0.07885178, 0.26467946],\n",
      "      dtype=float32)}\n",
      "7 {'classes': 9, 'probabilities': array([0.00281657, 0.00644511, 0.02329831, 0.05295163, 0.251315  ,\n",
      "       0.05936766, 0.07746299, 0.043715  , 0.03868022, 0.44394752],\n",
      "      dtype=float32)}\n",
      "8 {'classes': 5, 'probabilities': array([0.11809856, 0.00626805, 0.20070487, 0.00740002, 0.18599395,\n",
      "       0.23807052, 0.12046152, 0.00357175, 0.0802919 , 0.03913886],\n",
      "      dtype=float32)}\n",
      "9 {'classes': 7, 'probabilities': array([0.00813191, 0.00504576, 0.00412177, 0.01245976, 0.13154224,\n",
      "       0.04603117, 0.01134396, 0.41641602, 0.09639355, 0.26851395],\n",
      "      dtype=float32)}\n",
      "[7 2 1 0 4 1 4 9 5 9]\n"
     ]
    }
   ],
   "source": [
    "pred_input_fn = tf.estimator.inputs.numpy_input_fn(\n",
    "    x={\"x\": eval_data[0:10]},\n",
    "    y=eval_labels[0:10],\n",
    "    num_epochs=1,\n",
    "    shuffle=False)\n",
    "\n",
    "pred_results = mnist_classifier.predict(input_fn=pred_input_fn)\n",
    "\n",
    "for p in enumerate(pred_results):\n",
    "    print(p[0],p[1])\n",
    "\n",
    "print(eval_labels[0:10])"
   ]
  },
  {
   "cell_type": "markdown",
   "metadata": {
    "colab_type": "text",
    "id": "htmLZ-zEUZZk"
   },
   "source": [
    "## Additional Resources\n",
    "\n",
    "To learn more about TensorFlow Estimators and CNNs in TensorFlow, see the\n",
    "following resources:\n",
    "\n",
    "*   [Creating Estimators in tf.estimator](../../guide/custom_estimators.md)\n",
    "    provides an introduction to the TensorFlow Estimator API. It walks through\n",
    "    configuring an Estimator, writing a model function, calculating loss, and\n",
    "    defining a training op.\n",
    "*   [Advanced Convolutional Neural Networks](../../tutorials/images/deep_cnn.md) walks through how to build a MNIST CNN classification model\n",
    "    *without estimators* using lower-level TensorFlow operations."
   ]
  }
 ],
 "metadata": {
  "colab": {
   "collapsed_sections": [
    "Tce3stUlHN0L"
   ],
   "name": "cnn.ipynb",
   "private_outputs": true,
   "provenance": [],
   "toc_visible": true,
   "version": "0.3.2"
  },
  "hide_input": false,
  "kernelspec": {
   "display_name": "Python 3",
   "language": "python",
   "name": "python3"
  },
  "language_info": {
   "codemirror_mode": {
    "name": "ipython",
    "version": 3
   },
   "file_extension": ".py",
   "mimetype": "text/x-python",
   "name": "python",
   "nbconvert_exporter": "python",
   "pygments_lexer": "ipython3",
   "version": "3.7.7"
  },
  "toc": {
   "base_numbering": 1,
   "nav_menu": {},
   "number_sections": true,
   "sideBar": true,
   "skip_h1_title": false,
   "title_cell": "Table of Contents",
   "title_sidebar": "Contents",
   "toc_cell": false,
   "toc_position": {},
   "toc_section_display": true,
   "toc_window_display": false
  },
  "varInspector": {
   "cols": {
    "lenName": 16,
    "lenType": 16,
    "lenVar": 40
   },
   "kernels_config": {
    "python": {
     "delete_cmd_postfix": "",
     "delete_cmd_prefix": "del ",
     "library": "var_list.py",
     "varRefreshCmd": "print(var_dic_list())"
    },
    "r": {
     "delete_cmd_postfix": ") ",
     "delete_cmd_prefix": "rm(",
     "library": "var_list.r",
     "varRefreshCmd": "cat(var_dic_list()) "
    }
   },
   "types_to_exclude": [
    "module",
    "function",
    "builtin_function_or_method",
    "instance",
    "_Feature"
   ],
   "window_display": false
  }
 },
 "nbformat": 4,
 "nbformat_minor": 1
}
