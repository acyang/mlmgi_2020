{
 "cells": [
  {
   "cell_type": "code",
   "execution_count": 13,
   "metadata": {
    "ExecuteTime": {
     "end_time": "2019-06-10T06:26:51.202796Z",
     "start_time": "2019-06-10T06:26:23.111773Z"
    }
   },
   "outputs": [],
   "source": [
    "from data import *"
   ]
  },
  {
   "cell_type": "markdown",
   "metadata": {},
   "source": [
    "# data augmentation \n",
    "\n",
    "In deep learning tasks, a lot of data is need to train DNN model, when the dataset is not big enough, data augmentation should be applied.\n",
    "\n",
    "keras.preprocessing.image.ImageDataGenerator is a data generator, which can feed the DNN with data like : (data,label), it can also do data augmentation at the same time.\n",
    "\n",
    "It is very convenient for us to use keras.preprocessing.image.ImageDataGenerator to do data augmentation by implement image rotation, shift, rescale and so on... see [keras documentation](https://keras.io/preprocessing/image/) for detail.\n",
    "\n",
    "For image segmentation tasks, the image and mask must be transformed **together!!**"
   ]
  },
  {
   "cell_type": "markdown",
   "metadata": {},
   "source": [
    "## define your data generator\n",
    "\n",
    "If you want to visualize your data augmentation result, set save_to_dir = your path"
   ]
  },
  {
   "cell_type": "markdown",
   "metadata": {},
   "source": [
    "原始數據集是ISBI Challenge: Segmentation of neuronal structures in EM stacks\n",
    " http://brainiac2.mit.edu/isbi_challenge/\n",
    "\n",
    "這個問題是要分離出細胞邊緣，可以視作一個二分類的問題(是邊緣/不是邊緣)。\n",
    "\n",
    "最大的挑戰在於，影像張數太少，所以需要進行影像擴增(augmentation)。\n"
   ]
  },
  {
   "cell_type": "code",
   "execution_count": 14,
   "metadata": {
    "ExecuteTime": {
     "end_time": "2019-06-10T06:32:06.836595Z",
     "start_time": "2019-06-10T06:32:06.826601Z"
    }
   },
   "outputs": [],
   "source": [
    "#if you don't want to do data augmentation, set data_gen_args as an empty dict.\n",
    "#data_gen_args = dict()\n",
    "\n",
    "data_gen_args = dict(rotation_range=0.2,\n",
    "                    width_shift_range=0.05,\n",
    "                    height_shift_range=0.05,\n",
    "                    shear_range=0.05,\n",
    "                    zoom_range=0.05,\n",
    "                    horizontal_flip=True,\n",
    "                    fill_mode='nearest')\n",
    "myGenerator = trainGenerator(20,'Membrane','image','label',data_gen_args,save_to_dir = \"Membrane/aug\")"
   ]
  },
  {
   "cell_type": "markdown",
   "metadata": {},
   "source": [
    "扭曲圖像對於分類影響不大，所以可以使用\n",
    "\n",
    "[參考論文](http://faculty.cs.tamu.edu/schaefer/research/mls.pdf)\n",
    "\n",
    "![Before](https://img-blog.csdn.net/20170417205751603?watermark/2/text/aHR0cDovL2Jsb2cuY3Nkbi5uZXQvdTAxMjkzMTU4Mg==/font/5a6L5L2T/fontsize/400/fill/I0JBQkFCMA==/dissolve/70/gravity/SouthEast)\n",
    "\n",
    "![After](https://img-blog.csdn.net/20170417205820931?watermark/2/text/aHR0cDovL2Jsb2cuY3Nkbi5uZXQvdTAxMjkzMTU4Mg==/font/5a6L5L2T/fontsize/400/fill/I0JBQkFCMA==/dissolve/70/gravity/SouthEast)"
   ]
  },
  {
   "cell_type": "markdown",
   "metadata": {},
   "source": [
    "https://keras.io/preprocessing/image/\n",
    "\n",
    "* rotation_range: Int. Degree range for random rotations.\n",
    "* width_shift_range: Float, 1-D array-like or int\n",
    "\n",
    "    float: fraction of total width, if < 1, or pixels if >= 1.\n",
    "    1-D array-like: random elements from the array.\n",
    "    int: integer number of pixels from interval (-width_shift_range, +width_shift_range)\n",
    "    With width_shift_range=2 possible values are integers [-1, 0, +1], same as with width_shift_range=[-1, 0, +1], while with width_shift_range=1.0 possible values are floats in the half-open interval [-1.0, +1.0[.\n",
    "\n",
    "* height_shift_range: Float, 1-D array-like or int\n",
    "\n",
    "    float: fraction of total height, if < 1, or pixels if >= 1.\n",
    "    1-D array-like: random elements from the array.\n",
    "    int: integer number of pixels from interval (-height_shift_range, +height_shift_range)\n",
    "    With height_shift_range=2 possible values are integers [-1, 0, +1], same as with height_shift_range=[-1, 0, +1], while with height_shift_range=1.0 possible values are floats in the half-open interval [-1.0, +1.0[.\n",
    "\n",
    "* shear_range: Float. Shear Intensity (Shear angle in counter-clockwise direction in degrees)\n",
    "* zoom_range: Float or [lower, upper]. Range for random zoom. If a float, [lower, upper] = [1-zoom_range, 1+zoom_range].\n",
    "* horizontal_flip: Boolean. Randomly flip inputs horizontally.\n",
    "* fill_mode: One of {\"constant\", \"nearest\", \"reflect\" or \"wrap\"}. Default is 'nearest'. Points outside the boundaries of the input are filled according to the given mode:\n",
    "\n",
    "    'constant': kkkkkkkk|abcd|kkkkkkkk (cval=k)\n",
    "    \n",
    "    'nearest': aaaaaaaa|abcd|dddddddd\n",
    "    \n",
    "    'reflect': abcddcba|abcd|dcbaabcd\n",
    "    \n",
    "    'wrap': abcdabcd|abcd|abcdabcd"
   ]
  },
  {
   "cell_type": "markdown",
   "metadata": {},
   "source": [
    "## visualize your data augmentation result"
   ]
  },
  {
   "cell_type": "code",
   "execution_count": 15,
   "metadata": {
    "ExecuteTime": {
     "end_time": "2019-06-10T06:43:25.295340Z",
     "start_time": "2019-06-10T06:43:11.905030Z"
    }
   },
   "outputs": [
    {
     "name": "stdout",
     "output_type": "stream",
     "text": [
      "Found 30 images belonging to 1 classes.\n",
      "Found 30 images belonging to 1 classes.\n"
     ]
    }
   ],
   "source": [
    "#you will see 60 transformed images and their masks in membrane/aug\n",
    "num_batch = 3\n",
    "for i,batch in enumerate(myGenerator):\n",
    "    if(i >= num_batch):\n",
    "        break\n",
    "        \n",
    "\n",
    "##>>>seq = ['one', 'two', 'three']\n",
    "##>>> for i, element in enumerate(seq):   #把element in enumerate(seq)先一起看\n",
    "##...     print i, element\n",
    "##... \n",
    "##0 one\n",
    "##1 two\n",
    "##2 three\n"
   ]
  },
  {
   "cell_type": "markdown",
   "metadata": {},
   "source": [
    "## create .npy data\n",
    "\n",
    "If your computer has enough memory, you can create npy files containing all your images and masks, and feed your DNN with them."
   ]
  },
  {
   "cell_type": "code",
   "execution_count": 4,
   "metadata": {
    "ExecuteTime": {
     "end_time": "2019-06-10T06:44:33.084016Z",
     "start_time": "2019-06-10T06:44:31.719761Z"
    }
   },
   "outputs": [],
   "source": [
    "image_arr,mask_arr = geneTrainNpy(\"Membrane/aug/\",\"Membrane/aug/\")\n",
    "#np.save(\"data/image_arr.npy\",image_arr)\n",
    "#np.save(\"data/mask_arr.npy\",mask_arr)"
   ]
  }
 ],
 "metadata": {
  "hide_input": false,
  "kernelspec": {
   "display_name": "Python 3",
   "language": "python",
   "name": "python3"
  },
  "language_info": {
   "codemirror_mode": {
    "name": "ipython",
    "version": 3
   },
   "file_extension": ".py",
   "mimetype": "text/x-python",
   "name": "python",
   "nbconvert_exporter": "python",
   "pygments_lexer": "ipython3",
   "version": "3.7.7"
  },
  "toc": {
   "base_numbering": 1,
   "nav_menu": {},
   "number_sections": true,
   "sideBar": true,
   "skip_h1_title": false,
   "title_cell": "Table of Contents",
   "title_sidebar": "Contents",
   "toc_cell": false,
   "toc_position": {},
   "toc_section_display": true,
   "toc_window_display": false
  },
  "varInspector": {
   "cols": {
    "lenName": 16,
    "lenType": 16,
    "lenVar": 40
   },
   "kernels_config": {
    "python": {
     "delete_cmd_postfix": "",
     "delete_cmd_prefix": "del ",
     "library": "var_list.py",
     "varRefreshCmd": "print(var_dic_list())"
    },
    "r": {
     "delete_cmd_postfix": ") ",
     "delete_cmd_prefix": "rm(",
     "library": "var_list.r",
     "varRefreshCmd": "cat(var_dic_list()) "
    }
   },
   "types_to_exclude": [
    "module",
    "function",
    "builtin_function_or_method",
    "instance",
    "_Feature"
   ],
   "window_display": false
  }
 },
 "nbformat": 4,
 "nbformat_minor": 2
}
